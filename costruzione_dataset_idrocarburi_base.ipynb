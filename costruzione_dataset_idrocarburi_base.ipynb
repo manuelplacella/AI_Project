{
 "cells": [
  {
   "cell_type": "markdown",
   "source": [
    "## Costruzione del dataset contenente per ogni campione la media della TIC per ogni minuto"
   ],
   "metadata": {
    "collapsed": false
   },
   "execution_count": 1
  },
  {
   "cell_type": "markdown",
   "source": [
    "### Costruzione del dataframe"
   ],
   "metadata": {
    "collapsed": false
   }
  },
  {
   "cell_type": "code",
   "execution_count": 3,
   "outputs": [],
   "source": [
    "import pandas as pd\n",
    "import pyopenms as pms\n",
    "import matplotlib.pyplot as plt"
   ],
   "metadata": {
    "collapsed": false
   }
  },
  {
   "cell_type": "markdown",
   "source": [
    "#### Creazione un primo df di appoggio contenente origine - cultivar e percorso del file mzdata VOC del campione"
   ],
   "metadata": {
    "collapsed": false
   }
  },
  {
   "cell_type": "code",
   "execution_count": 12,
   "outputs": [
    {
     "data": {
      "text/plain": "          Origine   Cultivar  \\\n0          spagna  arbequina   \n1          spagna  arbequina   \n2      portogallo  arbequina   \n3      portogallo  arbequina   \n4      portogallo  arbequina   \n..            ...        ...   \n210  grecia-creta   psilolia   \n211  grecia-creta   psilolia   \n212  grecia-creta   psilolia   \n213  grecia-creta   psilolia   \n214  grecia-creta   psilolia   \n\n                                                  File  \n0    C:\\Users\\atocc\\Desktop\\idrocarburi-mzdata\\2093...  \n1    C:\\Users\\atocc\\Desktop\\idrocarburi-mzdata\\2163...  \n2    C:\\Users\\atocc\\Desktop\\idrocarburi-mzdata\\2164...  \n3    C:\\Users\\atocc\\Desktop\\idrocarburi-mzdata\\2164...  \n4    C:\\Users\\atocc\\Desktop\\idrocarburi-mzdata\\2164...  \n..                                                 ...  \n210  C:\\Users\\atocc\\Desktop\\idrocarburi-mzdata\\2134...  \n211  C:\\Users\\atocc\\Desktop\\idrocarburi-mzdata\\2134...  \n212  C:\\Users\\atocc\\Desktop\\idrocarburi-mzdata\\2134...  \n213  C:\\Users\\atocc\\Desktop\\idrocarburi-mzdata\\2134...  \n214  C:\\Users\\atocc\\Desktop\\idrocarburi-mzdata\\2134...  \n\n[215 rows x 3 columns]",
      "text/html": "<div>\n<style scoped>\n    .dataframe tbody tr th:only-of-type {\n        vertical-align: middle;\n    }\n\n    .dataframe tbody tr th {\n        vertical-align: top;\n    }\n\n    .dataframe thead th {\n        text-align: right;\n    }\n</style>\n<table border=\"1\" class=\"dataframe\">\n  <thead>\n    <tr style=\"text-align: right;\">\n      <th></th>\n      <th>Origine</th>\n      <th>Cultivar</th>\n      <th>File</th>\n    </tr>\n  </thead>\n  <tbody>\n    <tr>\n      <th>0</th>\n      <td>spagna</td>\n      <td>arbequina</td>\n      <td>C:\\Users\\atocc\\Desktop\\idrocarburi-mzdata\\2093...</td>\n    </tr>\n    <tr>\n      <th>1</th>\n      <td>spagna</td>\n      <td>arbequina</td>\n      <td>C:\\Users\\atocc\\Desktop\\idrocarburi-mzdata\\2163...</td>\n    </tr>\n    <tr>\n      <th>2</th>\n      <td>portogallo</td>\n      <td>arbequina</td>\n      <td>C:\\Users\\atocc\\Desktop\\idrocarburi-mzdata\\2164...</td>\n    </tr>\n    <tr>\n      <th>3</th>\n      <td>portogallo</td>\n      <td>arbequina</td>\n      <td>C:\\Users\\atocc\\Desktop\\idrocarburi-mzdata\\2164...</td>\n    </tr>\n    <tr>\n      <th>4</th>\n      <td>portogallo</td>\n      <td>arbequina</td>\n      <td>C:\\Users\\atocc\\Desktop\\idrocarburi-mzdata\\2164...</td>\n    </tr>\n    <tr>\n      <th>...</th>\n      <td>...</td>\n      <td>...</td>\n      <td>...</td>\n    </tr>\n    <tr>\n      <th>210</th>\n      <td>grecia-creta</td>\n      <td>psilolia</td>\n      <td>C:\\Users\\atocc\\Desktop\\idrocarburi-mzdata\\2134...</td>\n    </tr>\n    <tr>\n      <th>211</th>\n      <td>grecia-creta</td>\n      <td>psilolia</td>\n      <td>C:\\Users\\atocc\\Desktop\\idrocarburi-mzdata\\2134...</td>\n    </tr>\n    <tr>\n      <th>212</th>\n      <td>grecia-creta</td>\n      <td>psilolia</td>\n      <td>C:\\Users\\atocc\\Desktop\\idrocarburi-mzdata\\2134...</td>\n    </tr>\n    <tr>\n      <th>213</th>\n      <td>grecia-creta</td>\n      <td>psilolia</td>\n      <td>C:\\Users\\atocc\\Desktop\\idrocarburi-mzdata\\2134...</td>\n    </tr>\n    <tr>\n      <th>214</th>\n      <td>grecia-creta</td>\n      <td>psilolia</td>\n      <td>C:\\Users\\atocc\\Desktop\\idrocarburi-mzdata\\2134...</td>\n    </tr>\n  </tbody>\n</table>\n<p>215 rows × 3 columns</p>\n</div>"
     },
     "execution_count": 12,
     "metadata": {},
     "output_type": "execute_result"
    }
   ],
   "source": [
    "tabella_file = pd.read_excel(\"C:\\\\Users\\\\atocc\\Desktop\\\\annotazioni.xlsx\")\n",
    "path_base = \"C:\\\\Users\\\\atocc\\Desktop\\\\idrocarburi-mzdata\\\\\"\n",
    "elenco_origini = []\n",
    "elenco_cultivar = []\n",
    "elenco_percorsi = []\n",
    "for indice_riga, riga in tabella_file.iterrows():\n",
    "    if str(riga['Idrocarburi']).strip() == 'Sì':\n",
    "        elenco_origini.append(str(riga['Origine']).strip().lower())\n",
    "        elenco_cultivar.append(str(riga['CV']).strip().lower())\n",
    "        elenco_percorsi.append(path_base + str(riga['Sample']).strip() + '.mzdata.xml')\n",
    "df_file = pd.DataFrame({'Origine': elenco_origini, 'Cultivar': elenco_cultivar, 'File': elenco_percorsi})\n",
    "df_file"
   ],
   "metadata": {
    "collapsed": false
   }
  },
  {
   "cell_type": "markdown",
   "source": [
    "#### Definizione di una funzione che per ogni experiment (corrispondente ad un file) mi calcola la corrente ionica totale (TIC) e calcola la media della TIC in ogni minuto nei primi 40 minuti"
   ],
   "metadata": {
    "collapsed": false
   }
  },
  {
   "cell_type": "code",
   "execution_count": 13,
   "outputs": [],
   "source": [
    "min_range = 1\n",
    "max_range = 41\n",
    "def calcolaMedie(exp):\n",
    "    tic = exp.calculateTIC()\n",
    "    retention_time, intensity = tic.get_peaks()\n",
    "    lista_medie = []\n",
    "    pos_t_i = 0\n",
    "    for min in range(min_range,max_range):\n",
    "        somma = 0\n",
    "        cont = 0\n",
    "        while retention_time[pos_t_i] < 60*min :\n",
    "            somma += intensity[pos_t_i]\n",
    "            pos_t_i += 1\n",
    "            cont += 1\n",
    "        mean_intensity = somma/cont\n",
    "        lista_medie.append(mean_intensity)\n",
    "    return lista_medie"
   ],
   "metadata": {
    "collapsed": false
   }
  },
  {
   "cell_type": "markdown",
   "source": [
    "### Costruzione del dataset di lavoro inserendo i target 'origine' e 'cultivar' e 40 feature corrispondenti alla corrente ionica totale media in ogni minuto per ogni campione"
   ],
   "metadata": {
    "collapsed": false
   }
  },
  {
   "cell_type": "code",
   "execution_count": 14,
   "outputs": [
    {
     "name": "stdout",
     "output_type": "stream",
     "text": [
      "Campione 0\n",
      "Campione 1\n",
      "Campione 2\n",
      "Campione 3\n",
      "Campione 4\n",
      "Campione 5\n",
      "Campione 6\n",
      "Campione 7\n",
      "Campione 8\n",
      "Campione 9\n",
      "Campione 10\n",
      "Campione 11\n",
      "Campione 12\n",
      "Campione 13\n",
      "Campione 14\n",
      "Campione 15\n",
      "Campione 16\n",
      "Campione 17\n",
      "Campione 18\n",
      "Campione 19\n",
      "Campione 20\n",
      "Campione 21\n",
      "Campione 22\n",
      "Campione 23\n",
      "Campione 24\n",
      "Campione 25\n",
      "Campione 26\n",
      "Campione 27\n",
      "Campione 28\n",
      "Campione 29\n",
      "Campione 30\n",
      "Campione 31\n",
      "Campione 32\n",
      "Campione 33\n",
      "Campione 34\n",
      "Campione 35\n",
      "Campione 36\n",
      "Campione 37\n",
      "Campione 38\n",
      "Campione 39\n",
      "Campione 40\n",
      "Campione 41\n",
      "Campione 42\n",
      "Campione 43\n",
      "Campione 44\n",
      "Campione 45\n",
      "Campione 46\n",
      "Campione 47\n",
      "Campione 48\n",
      "Campione 49\n",
      "Campione 50\n",
      "Campione 51\n",
      "Campione 52\n",
      "Campione 53\n",
      "Campione 54\n",
      "Campione 55\n",
      "Campione 56\n",
      "Campione 57\n",
      "Campione 58\n",
      "Campione 59\n",
      "Campione 60\n",
      "Campione 61\n",
      "Campione 62\n",
      "Campione 63\n",
      "Campione 64\n",
      "Campione 65\n",
      "Campione 66\n",
      "Campione 67\n",
      "Campione 68\n",
      "Campione 69\n",
      "Campione 70\n",
      "Campione 71\n",
      "Campione 72\n",
      "Campione 73\n",
      "Campione 74\n",
      "Campione 75\n",
      "Campione 76\n",
      "Campione 77\n",
      "Campione 78\n",
      "Campione 79\n",
      "Campione 80\n",
      "Campione 81\n",
      "Campione 82\n",
      "Campione 83\n",
      "Campione 84\n",
      "Campione 85\n",
      "Campione 86\n",
      "Campione 87\n",
      "Campione 88\n",
      "Campione 89\n",
      "Campione 90\n",
      "Campione 91\n",
      "Campione 92\n",
      "Campione 93\n",
      "Campione 94\n",
      "Campione 95\n",
      "Campione 96\n",
      "Campione 97\n",
      "Campione 98\n",
      "Campione 99\n",
      "Campione 100\n",
      "Campione 101\n",
      "Campione 102\n",
      "Campione 103\n",
      "Campione 104\n",
      "Campione 105\n",
      "Campione 106\n",
      "Campione 107\n",
      "Campione 108\n",
      "Campione 109\n",
      "Campione 110\n",
      "Campione 111\n",
      "Campione 112\n",
      "Campione 113\n",
      "Campione 114\n",
      "Campione 115\n",
      "Campione 116\n",
      "Campione 117\n",
      "Campione 118\n",
      "Campione 119\n",
      "Campione 120\n",
      "Campione 121\n",
      "Campione 122\n",
      "Campione 123\n",
      "Campione 124\n",
      "Campione 125\n",
      "Campione 126\n",
      "Campione 127\n",
      "Campione 128\n",
      "Campione 129\n",
      "Campione 130\n",
      "Campione 131\n",
      "Campione 132\n",
      "Campione 133\n",
      "Campione 134\n",
      "Campione 135\n",
      "Campione 136\n",
      "Campione 137\n",
      "Campione 138\n",
      "Campione 139\n",
      "Campione 140\n",
      "Campione 141\n",
      "Campione 142\n",
      "Campione 143\n",
      "Campione 144\n",
      "Campione 145\n",
      "Campione 146\n",
      "Campione 147\n",
      "Campione 148\n",
      "Campione 149\n",
      "Campione 150\n",
      "Campione 151\n",
      "Campione 152\n",
      "Campione 153\n",
      "Campione 154\n",
      "Campione 155\n",
      "Campione 156\n",
      "Campione 157\n",
      "Campione 158\n",
      "Campione 159\n",
      "Campione 160\n",
      "Campione 161\n",
      "Campione 162\n",
      "Campione 163\n",
      "Campione 164\n",
      "Campione 165\n",
      "Campione 166\n",
      "Campione 167\n",
      "Campione 168\n",
      "Campione 169\n",
      "Campione 170\n",
      "Campione 171\n",
      "Campione 172\n",
      "Campione 173\n",
      "Campione 174\n",
      "Campione 175\n",
      "Campione 176\n",
      "Campione 177\n",
      "Campione 178\n",
      "Campione 179\n",
      "Campione 180\n",
      "Campione 181\n",
      "Campione 182\n",
      "Campione 183\n",
      "Campione 184\n",
      "Campione 185\n",
      "Campione 186\n",
      "Campione 187\n",
      "Campione 188\n",
      "Campione 189\n",
      "Campione 190\n",
      "Campione 191\n",
      "Campione 192\n",
      "Campione 193\n",
      "Campione 194\n",
      "Campione 195\n",
      "Campione 196\n",
      "Campione 197\n",
      "Campione 198\n",
      "Campione 199\n",
      "Campione 200\n",
      "Campione 201\n",
      "Campione 202\n",
      "Campione 203\n",
      "Campione 204\n",
      "Campione 205\n",
      "Campione 206\n",
      "Campione 207\n",
      "Campione 208\n",
      "Campione 209\n",
      "Campione 210\n",
      "Campione 211\n",
      "Campione 212\n",
      "Campione 213\n",
      "Campione 214\n"
     ]
    }
   ],
   "source": [
    "colonna_origini = []\n",
    "colonna_cultivar = []\n",
    "colonna_valori = []\n",
    "for index, row in df_file.iterrows():\n",
    "    print('Campione ' + str(index))\n",
    "    colonna_origini.append(row['Origine'])\n",
    "    colonna_cultivar.append(row['Cultivar'])\n",
    "    exp = pms.MSExperiment()\n",
    "    #savfil = pms.SavitzkyGolayFilter()\n",
    "    #savfil.filterExperiment(exp)\n",
    "    #bernFilt = pms.BernNorm()\n",
    "    #bernFilt.filterPeakMap(exp)\n",
    "    pms.MzDataFile().load(str(row.File), exp)\n",
    "    colonna_valori.append(calcolaMedie(exp))\n",
    "df = pd.DataFrame(colonna_valori, columns=['minuto {}'.format(i+1) for i in range(max_range-1)])\n",
    "# Aggiungo la colonna cultivar\n",
    "df.insert(0,'Cultivar', colonna_cultivar)\n",
    "# Aggiungo la colonna origine\n",
    "df.insert(0,'Origine', colonna_origini)"
   ],
   "metadata": {
    "collapsed": false
   }
  },
  {
   "cell_type": "code",
   "execution_count": 15,
   "outputs": [
    {
     "data": {
      "text/plain": "          Origine   Cultivar       minuto 1       minuto 2       minuto 3  \\\n0          spagna  arbequina  285552.657407  222528.687023  479480.820611   \n1          spagna  arbequina  350859.666667  275378.450382  371042.889313   \n2      portogallo  arbequina  344787.731481  267565.671756  370105.251908   \n3      portogallo  arbequina  338957.527778  263786.790076  382563.980916   \n4      portogallo  arbequina  335893.537037  259351.702290  370968.881679   \n..            ...        ...            ...            ...            ...   \n210  grecia-creta   psilolia  232529.898148  171412.179389  313677.156489   \n211  grecia-creta   psilolia  238565.101852  177041.629771  317997.790076   \n212  grecia-creta   psilolia  238005.898148  175727.824427  314296.770992   \n213  grecia-creta   psilolia  225468.259259  168102.087786  289200.973282   \n214  grecia-creta   psilolia  232030.712963  172734.984733  315451.469466   \n\n          minuto 4       minuto 5       minuto 6       minuto 7  \\\n0    841350.133080  151055.500000  293072.973282  210358.992366   \n1    613049.079848  205299.877863  401429.790076  220935.912214   \n2    594541.433460  201934.870229  506640.347328  272863.492366   \n3    602526.395437  198295.335878  468896.087786  263291.324427   \n4    595496.049430  195838.366412  445420.213740  241029.889313   \n..             ...            ...            ...            ...   \n210  571485.133080  121033.053435  309337.423664  150019.377863   \n211  567086.901141  124256.751908  310766.561069  147907.110687   \n212  574093.931559  125273.282443  291120.496183  152215.454198   \n213  539879.425856  120456.423664  289190.587786  145751.194656   \n214  558837.505703  126249.377863  297561.503817  169850.683206   \n\n          minuto 8  ...      minuto 31      minuto 32      minuto 33  \\\n0    231720.041825  ...  254848.003817  242908.756654  330858.515267   \n1    431963.661597  ...  384002.698473  501966.589354  452314.958015   \n2    350155.752852  ...  304054.125954  504697.619772  433351.675573   \n3    412403.623574  ...  352494.148855  512697.912548  448702.515267   \n4    304775.984791  ...  303901.793893  430377.726236  388433.618321   \n..             ...  ...            ...            ...            ...   \n210  143070.973384  ...  304278.450382  393241.589354  310216.419847   \n211  173930.475285  ...  308148.633588  426888.711027  354341.389313   \n212  150483.212928  ...  501606.057252  426067.456274  365275.515267   \n213  142537.197719  ...  605190.992366  480501.585551  283547.358779   \n214  165171.954373  ...  559273.725191  482647.847909  304625.610687   \n\n        minuto 34      minuto 35      minuto 36     minuto 37     minuto 38  \\\n0    3.109311e+05  895092.545802  507366.452471  1.602090e+06  1.108234e+06   \n1    2.748970e+06  741897.832061  762177.859316  1.046992e+06  1.043548e+06   \n2    2.069047e+06  705018.629771  735898.395437  1.093091e+06  1.066879e+06   \n3    1.423215e+06  725906.568702  813684.623574  9.590397e+05  1.070762e+06   \n4    1.575730e+06  579745.820611  713441.722433  1.234962e+06  1.037187e+06   \n..            ...            ...            ...           ...           ...   \n210  5.426645e+05  761789.545802  566713.517110  6.497911e+05  1.007910e+06   \n211  6.857394e+05  791463.072519  589462.034221  6.786467e+05  1.026454e+06   \n212  7.810261e+05  677070.080153  602479.749049  6.712382e+05  1.110826e+06   \n213  5.653339e+05  626207.706107  503311.205323  7.386943e+05  1.079414e+06   \n214  6.816158e+05  634376.599237  577367.745247  7.102399e+05  1.104055e+06   \n\n        minuto 39     minuto 40  \n0    1.311983e+06  1.959019e+06  \n1    1.529580e+06  2.195992e+06  \n2    1.558130e+06  2.260089e+06  \n3    1.441533e+06  2.200444e+06  \n4    1.409344e+06  2.097782e+06  \n..            ...           ...  \n210  1.318856e+06  1.713064e+06  \n211  1.319617e+06  1.725690e+06  \n212  1.203354e+06  1.694784e+06  \n213  1.100055e+06  1.591723e+06  \n214  1.187256e+06  1.646966e+06  \n\n[215 rows x 42 columns]",
      "text/html": "<div>\n<style scoped>\n    .dataframe tbody tr th:only-of-type {\n        vertical-align: middle;\n    }\n\n    .dataframe tbody tr th {\n        vertical-align: top;\n    }\n\n    .dataframe thead th {\n        text-align: right;\n    }\n</style>\n<table border=\"1\" class=\"dataframe\">\n  <thead>\n    <tr style=\"text-align: right;\">\n      <th></th>\n      <th>Origine</th>\n      <th>Cultivar</th>\n      <th>minuto 1</th>\n      <th>minuto 2</th>\n      <th>minuto 3</th>\n      <th>minuto 4</th>\n      <th>minuto 5</th>\n      <th>minuto 6</th>\n      <th>minuto 7</th>\n      <th>minuto 8</th>\n      <th>...</th>\n      <th>minuto 31</th>\n      <th>minuto 32</th>\n      <th>minuto 33</th>\n      <th>minuto 34</th>\n      <th>minuto 35</th>\n      <th>minuto 36</th>\n      <th>minuto 37</th>\n      <th>minuto 38</th>\n      <th>minuto 39</th>\n      <th>minuto 40</th>\n    </tr>\n  </thead>\n  <tbody>\n    <tr>\n      <th>0</th>\n      <td>spagna</td>\n      <td>arbequina</td>\n      <td>285552.657407</td>\n      <td>222528.687023</td>\n      <td>479480.820611</td>\n      <td>841350.133080</td>\n      <td>151055.500000</td>\n      <td>293072.973282</td>\n      <td>210358.992366</td>\n      <td>231720.041825</td>\n      <td>...</td>\n      <td>254848.003817</td>\n      <td>242908.756654</td>\n      <td>330858.515267</td>\n      <td>3.109311e+05</td>\n      <td>895092.545802</td>\n      <td>507366.452471</td>\n      <td>1.602090e+06</td>\n      <td>1.108234e+06</td>\n      <td>1.311983e+06</td>\n      <td>1.959019e+06</td>\n    </tr>\n    <tr>\n      <th>1</th>\n      <td>spagna</td>\n      <td>arbequina</td>\n      <td>350859.666667</td>\n      <td>275378.450382</td>\n      <td>371042.889313</td>\n      <td>613049.079848</td>\n      <td>205299.877863</td>\n      <td>401429.790076</td>\n      <td>220935.912214</td>\n      <td>431963.661597</td>\n      <td>...</td>\n      <td>384002.698473</td>\n      <td>501966.589354</td>\n      <td>452314.958015</td>\n      <td>2.748970e+06</td>\n      <td>741897.832061</td>\n      <td>762177.859316</td>\n      <td>1.046992e+06</td>\n      <td>1.043548e+06</td>\n      <td>1.529580e+06</td>\n      <td>2.195992e+06</td>\n    </tr>\n    <tr>\n      <th>2</th>\n      <td>portogallo</td>\n      <td>arbequina</td>\n      <td>344787.731481</td>\n      <td>267565.671756</td>\n      <td>370105.251908</td>\n      <td>594541.433460</td>\n      <td>201934.870229</td>\n      <td>506640.347328</td>\n      <td>272863.492366</td>\n      <td>350155.752852</td>\n      <td>...</td>\n      <td>304054.125954</td>\n      <td>504697.619772</td>\n      <td>433351.675573</td>\n      <td>2.069047e+06</td>\n      <td>705018.629771</td>\n      <td>735898.395437</td>\n      <td>1.093091e+06</td>\n      <td>1.066879e+06</td>\n      <td>1.558130e+06</td>\n      <td>2.260089e+06</td>\n    </tr>\n    <tr>\n      <th>3</th>\n      <td>portogallo</td>\n      <td>arbequina</td>\n      <td>338957.527778</td>\n      <td>263786.790076</td>\n      <td>382563.980916</td>\n      <td>602526.395437</td>\n      <td>198295.335878</td>\n      <td>468896.087786</td>\n      <td>263291.324427</td>\n      <td>412403.623574</td>\n      <td>...</td>\n      <td>352494.148855</td>\n      <td>512697.912548</td>\n      <td>448702.515267</td>\n      <td>1.423215e+06</td>\n      <td>725906.568702</td>\n      <td>813684.623574</td>\n      <td>9.590397e+05</td>\n      <td>1.070762e+06</td>\n      <td>1.441533e+06</td>\n      <td>2.200444e+06</td>\n    </tr>\n    <tr>\n      <th>4</th>\n      <td>portogallo</td>\n      <td>arbequina</td>\n      <td>335893.537037</td>\n      <td>259351.702290</td>\n      <td>370968.881679</td>\n      <td>595496.049430</td>\n      <td>195838.366412</td>\n      <td>445420.213740</td>\n      <td>241029.889313</td>\n      <td>304775.984791</td>\n      <td>...</td>\n      <td>303901.793893</td>\n      <td>430377.726236</td>\n      <td>388433.618321</td>\n      <td>1.575730e+06</td>\n      <td>579745.820611</td>\n      <td>713441.722433</td>\n      <td>1.234962e+06</td>\n      <td>1.037187e+06</td>\n      <td>1.409344e+06</td>\n      <td>2.097782e+06</td>\n    </tr>\n    <tr>\n      <th>...</th>\n      <td>...</td>\n      <td>...</td>\n      <td>...</td>\n      <td>...</td>\n      <td>...</td>\n      <td>...</td>\n      <td>...</td>\n      <td>...</td>\n      <td>...</td>\n      <td>...</td>\n      <td>...</td>\n      <td>...</td>\n      <td>...</td>\n      <td>...</td>\n      <td>...</td>\n      <td>...</td>\n      <td>...</td>\n      <td>...</td>\n      <td>...</td>\n      <td>...</td>\n      <td>...</td>\n    </tr>\n    <tr>\n      <th>210</th>\n      <td>grecia-creta</td>\n      <td>psilolia</td>\n      <td>232529.898148</td>\n      <td>171412.179389</td>\n      <td>313677.156489</td>\n      <td>571485.133080</td>\n      <td>121033.053435</td>\n      <td>309337.423664</td>\n      <td>150019.377863</td>\n      <td>143070.973384</td>\n      <td>...</td>\n      <td>304278.450382</td>\n      <td>393241.589354</td>\n      <td>310216.419847</td>\n      <td>5.426645e+05</td>\n      <td>761789.545802</td>\n      <td>566713.517110</td>\n      <td>6.497911e+05</td>\n      <td>1.007910e+06</td>\n      <td>1.318856e+06</td>\n      <td>1.713064e+06</td>\n    </tr>\n    <tr>\n      <th>211</th>\n      <td>grecia-creta</td>\n      <td>psilolia</td>\n      <td>238565.101852</td>\n      <td>177041.629771</td>\n      <td>317997.790076</td>\n      <td>567086.901141</td>\n      <td>124256.751908</td>\n      <td>310766.561069</td>\n      <td>147907.110687</td>\n      <td>173930.475285</td>\n      <td>...</td>\n      <td>308148.633588</td>\n      <td>426888.711027</td>\n      <td>354341.389313</td>\n      <td>6.857394e+05</td>\n      <td>791463.072519</td>\n      <td>589462.034221</td>\n      <td>6.786467e+05</td>\n      <td>1.026454e+06</td>\n      <td>1.319617e+06</td>\n      <td>1.725690e+06</td>\n    </tr>\n    <tr>\n      <th>212</th>\n      <td>grecia-creta</td>\n      <td>psilolia</td>\n      <td>238005.898148</td>\n      <td>175727.824427</td>\n      <td>314296.770992</td>\n      <td>574093.931559</td>\n      <td>125273.282443</td>\n      <td>291120.496183</td>\n      <td>152215.454198</td>\n      <td>150483.212928</td>\n      <td>...</td>\n      <td>501606.057252</td>\n      <td>426067.456274</td>\n      <td>365275.515267</td>\n      <td>7.810261e+05</td>\n      <td>677070.080153</td>\n      <td>602479.749049</td>\n      <td>6.712382e+05</td>\n      <td>1.110826e+06</td>\n      <td>1.203354e+06</td>\n      <td>1.694784e+06</td>\n    </tr>\n    <tr>\n      <th>213</th>\n      <td>grecia-creta</td>\n      <td>psilolia</td>\n      <td>225468.259259</td>\n      <td>168102.087786</td>\n      <td>289200.973282</td>\n      <td>539879.425856</td>\n      <td>120456.423664</td>\n      <td>289190.587786</td>\n      <td>145751.194656</td>\n      <td>142537.197719</td>\n      <td>...</td>\n      <td>605190.992366</td>\n      <td>480501.585551</td>\n      <td>283547.358779</td>\n      <td>5.653339e+05</td>\n      <td>626207.706107</td>\n      <td>503311.205323</td>\n      <td>7.386943e+05</td>\n      <td>1.079414e+06</td>\n      <td>1.100055e+06</td>\n      <td>1.591723e+06</td>\n    </tr>\n    <tr>\n      <th>214</th>\n      <td>grecia-creta</td>\n      <td>psilolia</td>\n      <td>232030.712963</td>\n      <td>172734.984733</td>\n      <td>315451.469466</td>\n      <td>558837.505703</td>\n      <td>126249.377863</td>\n      <td>297561.503817</td>\n      <td>169850.683206</td>\n      <td>165171.954373</td>\n      <td>...</td>\n      <td>559273.725191</td>\n      <td>482647.847909</td>\n      <td>304625.610687</td>\n      <td>6.816158e+05</td>\n      <td>634376.599237</td>\n      <td>577367.745247</td>\n      <td>7.102399e+05</td>\n      <td>1.104055e+06</td>\n      <td>1.187256e+06</td>\n      <td>1.646966e+06</td>\n    </tr>\n  </tbody>\n</table>\n<p>215 rows × 42 columns</p>\n</div>"
     },
     "execution_count": 15,
     "metadata": {},
     "output_type": "execute_result"
    }
   ],
   "source": [
    "df"
   ],
   "metadata": {
    "collapsed": false
   }
  },
  {
   "cell_type": "markdown",
   "source": [
    "### Salvataggio del dataframe in un csv da utilizzare poi per testare i vari algoritmi di machine learning"
   ],
   "metadata": {
    "collapsed": false
   }
  },
  {
   "cell_type": "code",
   "execution_count": 16,
   "outputs": [
    {
     "data": {
      "text/plain": "picual                  50\npsilolia                43\nkoroneiki               31\narbequina               31\ncoratina                21\nchemlali                 8\nhojiblanca               8\nmanzanilla               5\nmorisca                  3\npicudo                   3\nmoraiolo                 2\nfrantoio                 1\ncarolea                  1\nblend                    1\nleccio del corno         1\nchemlali 90%             1\nmaurino                  1\nneroliva                 1\nogliarola                1\ncarnenzuela              1\nkoroneiki & neroliva     1\nName: Cultivar, dtype: int64"
     },
     "execution_count": 16,
     "metadata": {},
     "output_type": "execute_result"
    }
   ],
   "source": [
    "df['Cultivar'].value_counts()"
   ],
   "metadata": {
    "collapsed": false
   }
  },
  {
   "cell_type": "code",
   "execution_count": 17,
   "outputs": [
    {
     "data": {
      "text/plain": "spagna                  92\ngrecia-creta            43\nitalia                  28\ngrecia - peloponneso    23\nportogallo              10\ngrecia                  10\ntunisia                  9\nName: Origine, dtype: int64"
     },
     "execution_count": 17,
     "metadata": {},
     "output_type": "execute_result"
    }
   ],
   "source": [
    "df['Origine'].value_counts()"
   ],
   "metadata": {
    "collapsed": false
   }
  },
  {
   "cell_type": "code",
   "execution_count": 18,
   "outputs": [],
   "source": [
    "df.to_csv('../dataset/df_media_TIC_Idro_al_minuto.csv', index=False)"
   ],
   "metadata": {
    "collapsed": false
   }
  }
 ],
 "metadata": {
  "kernelspec": {
   "display_name": "Python 3",
   "language": "python",
   "name": "python3"
  },
  "language_info": {
   "codemirror_mode": {
    "name": "ipython",
    "version": 2
   },
   "file_extension": ".py",
   "mimetype": "text/x-python",
   "name": "python",
   "nbconvert_exporter": "python",
   "pygments_lexer": "ipython2",
   "version": "2.7.6"
  }
 },
 "nbformat": 4,
 "nbformat_minor": 0
}
