{
 "cells": [
  {
   "cell_type": "markdown",
   "source": [
    "### Costruzione di un nuovo dataset senza Portogallo, Grecia e Tunisia"
   ],
   "metadata": {
    "collapsed": false
   }
  },
  {
   "cell_type": "code",
   "execution_count": 1,
   "outputs": [],
   "source": [
    "import pandas as pd"
   ],
   "metadata": {
    "collapsed": false
   }
  },
  {
   "cell_type": "code",
   "execution_count": 7,
   "outputs": [],
   "source": [
    "df = pd.read_csv('../dataset/df_media_TIC_VOCs_min_1-40.csv')"
   ],
   "metadata": {
    "collapsed": false
   }
  },
  {
   "cell_type": "code",
   "execution_count": 3,
   "outputs": [],
   "source": [
    "df = df.drop(df[df['Origine'] == 'tunisia'].index)\n",
    "df = df.drop(df[df['Origine'] == 'portogallo'].index)\n",
    "df = df.drop(df[df['Origine'] == 'grecia'].index)"
   ],
   "metadata": {
    "collapsed": false
   }
  },
  {
   "cell_type": "code",
   "execution_count": 4,
   "outputs": [],
   "source": [
    "df.to_csv('../dataset/df_media_TIC_VOCs_min_1-40_semplificato.csv', index=False)"
   ],
   "metadata": {
    "collapsed": false
   }
  },
  {
   "cell_type": "code",
   "execution_count": 5,
   "outputs": [
    {
     "data": {
      "text/plain": "          Origine   Cultivar       minuto 1       minuto 2       minuto 3  \\\n0          spagna  arbequina  269838.435185  214440.194656  404471.480916   \n1          spagna  arbequina  240197.685185  195479.748092  322672.637405   \n5          spagna  arbequina  237171.805556  190855.156489  307053.259542   \n6          spagna  arbequina  248558.787037  199870.725191  372082.912214   \n7          spagna  arbequina  243272.055556  196197.786260  398527.049618   \n..            ...        ...            ...            ...            ...   \n212  grecia-creta   psilolia  282523.444444  223229.706107  399778.286260   \n213  grecia-creta   psilolia  284255.787037  226056.687023  389888.290076   \n214  grecia-creta   psilolia  285180.407407  226563.778626  459416.194656   \n215  grecia-creta   psilolia  274340.259259  215180.129771  359988.148855   \n216  grecia-creta   psilolia  280082.212963  224176.469466  427302.694656   \n\n         minuto 4       minuto 5       minuto 6       minuto 7      minuto 8  \\\n0    9.718674e+05  214243.927481  372427.763359  440968.820611  4.301475e+05   \n1    2.361754e+06  334500.408397  512092.049618  503167.267176  8.102410e+05   \n5    7.127946e+05  264044.160305  637255.458015  920179.824427  9.133744e+05   \n6    7.890585e+05  279508.583969  710634.519084  579127.797710  9.351738e+05   \n7    7.968418e+05  283307.019084  571798.011450  997297.179389  1.156870e+06   \n..            ...            ...            ...            ...           ...   \n212  1.005979e+06  279335.179389  451478.332061  502599.847328  4.195175e+05   \n213  1.000605e+06  306786.870229  454201.702290  500089.835878  5.298876e+05   \n214  1.092579e+06  268107.988550  410765.385496  499917.622137  4.419611e+05   \n215  1.355812e+06  251213.251908  516001.374046  371830.988550  3.362284e+05   \n216  1.072775e+06  264961.958015  409542.473282  532225.160305  4.696305e+05   \n\n     ...      minuto 31      minuto 32      minuto 33      minuto 34  \\\n0    ...  260476.667939  177054.813688  237462.484733  255932.961832   \n1    ...  118197.698473  134956.091255  145618.702290  206248.954198   \n5    ...  120955.011450  127362.536122  146110.148855  214262.599237   \n6    ...  143010.263359  144414.121673  148605.675573  205322.561069   \n7    ...  130515.053435  138516.129278  147580.328244  201509.858779   \n..   ...            ...            ...            ...            ...   \n212  ...  164768.759542  161470.391635  179481.148855  210488.851145   \n213  ...  172875.576336  168867.197719  187645.106870  217010.572519   \n214  ...  223415.633588  209212.011407  184175.694656  216538.877863   \n215  ...  262879.282443  201107.030418  176834.736641  203410.248092   \n216  ...  291903.297710  212665.889734  185102.393130  214347.259542   \n\n         minuto 35      minuto 36      minuto 37      minuto 38     minuto 39  \\\n0    411766.759542  451533.547529  656340.763359  917184.419847  1.351759e+06   \n1    251911.530534  345735.072243  475011.442748  680705.267176  1.034518e+06   \n5    331289.103053  349300.566540  487270.179389  680580.732824  1.017115e+06   \n6    276476.980916  361187.908745  491094.652672  704973.820611  1.086269e+06   \n7    276546.335878  346888.581749  474603.797710  684271.557252  1.039253e+06   \n..             ...            ...            ...            ...           ...   \n212  286966.870229  385167.908745  532677.561069  765502.019084  1.132137e+06   \n213  293693.927481  394577.577947  543966.587786  780407.083969  1.155864e+06   \n214  297940.992366  381341.353612  539286.900763  793366.889313  1.155609e+06   \n215  283698.583969  358531.680608  508422.790076  759418.549618  1.103785e+06   \n216  291530.015267  376786.874525  536461.255725  788113.480916  1.151774e+06   \n\n        minuto 40  \n0    2.129662e+06  \n1    1.630518e+06  \n5    1.601967e+06  \n6    1.686643e+06  \n7    1.632296e+06  \n..            ...  \n212  1.780847e+06  \n213  1.820886e+06  \n214  1.824194e+06  \n215  1.743720e+06  \n216  1.812858e+06  \n\n[188 rows x 42 columns]",
      "text/html": "<div>\n<style scoped>\n    .dataframe tbody tr th:only-of-type {\n        vertical-align: middle;\n    }\n\n    .dataframe tbody tr th {\n        vertical-align: top;\n    }\n\n    .dataframe thead th {\n        text-align: right;\n    }\n</style>\n<table border=\"1\" class=\"dataframe\">\n  <thead>\n    <tr style=\"text-align: right;\">\n      <th></th>\n      <th>Origine</th>\n      <th>Cultivar</th>\n      <th>minuto 1</th>\n      <th>minuto 2</th>\n      <th>minuto 3</th>\n      <th>minuto 4</th>\n      <th>minuto 5</th>\n      <th>minuto 6</th>\n      <th>minuto 7</th>\n      <th>minuto 8</th>\n      <th>...</th>\n      <th>minuto 31</th>\n      <th>minuto 32</th>\n      <th>minuto 33</th>\n      <th>minuto 34</th>\n      <th>minuto 35</th>\n      <th>minuto 36</th>\n      <th>minuto 37</th>\n      <th>minuto 38</th>\n      <th>minuto 39</th>\n      <th>minuto 40</th>\n    </tr>\n  </thead>\n  <tbody>\n    <tr>\n      <th>0</th>\n      <td>spagna</td>\n      <td>arbequina</td>\n      <td>269838.435185</td>\n      <td>214440.194656</td>\n      <td>404471.480916</td>\n      <td>9.718674e+05</td>\n      <td>214243.927481</td>\n      <td>372427.763359</td>\n      <td>440968.820611</td>\n      <td>4.301475e+05</td>\n      <td>...</td>\n      <td>260476.667939</td>\n      <td>177054.813688</td>\n      <td>237462.484733</td>\n      <td>255932.961832</td>\n      <td>411766.759542</td>\n      <td>451533.547529</td>\n      <td>656340.763359</td>\n      <td>917184.419847</td>\n      <td>1.351759e+06</td>\n      <td>2.129662e+06</td>\n    </tr>\n    <tr>\n      <th>1</th>\n      <td>spagna</td>\n      <td>arbequina</td>\n      <td>240197.685185</td>\n      <td>195479.748092</td>\n      <td>322672.637405</td>\n      <td>2.361754e+06</td>\n      <td>334500.408397</td>\n      <td>512092.049618</td>\n      <td>503167.267176</td>\n      <td>8.102410e+05</td>\n      <td>...</td>\n      <td>118197.698473</td>\n      <td>134956.091255</td>\n      <td>145618.702290</td>\n      <td>206248.954198</td>\n      <td>251911.530534</td>\n      <td>345735.072243</td>\n      <td>475011.442748</td>\n      <td>680705.267176</td>\n      <td>1.034518e+06</td>\n      <td>1.630518e+06</td>\n    </tr>\n    <tr>\n      <th>5</th>\n      <td>spagna</td>\n      <td>arbequina</td>\n      <td>237171.805556</td>\n      <td>190855.156489</td>\n      <td>307053.259542</td>\n      <td>7.127946e+05</td>\n      <td>264044.160305</td>\n      <td>637255.458015</td>\n      <td>920179.824427</td>\n      <td>9.133744e+05</td>\n      <td>...</td>\n      <td>120955.011450</td>\n      <td>127362.536122</td>\n      <td>146110.148855</td>\n      <td>214262.599237</td>\n      <td>331289.103053</td>\n      <td>349300.566540</td>\n      <td>487270.179389</td>\n      <td>680580.732824</td>\n      <td>1.017115e+06</td>\n      <td>1.601967e+06</td>\n    </tr>\n    <tr>\n      <th>6</th>\n      <td>spagna</td>\n      <td>arbequina</td>\n      <td>248558.787037</td>\n      <td>199870.725191</td>\n      <td>372082.912214</td>\n      <td>7.890585e+05</td>\n      <td>279508.583969</td>\n      <td>710634.519084</td>\n      <td>579127.797710</td>\n      <td>9.351738e+05</td>\n      <td>...</td>\n      <td>143010.263359</td>\n      <td>144414.121673</td>\n      <td>148605.675573</td>\n      <td>205322.561069</td>\n      <td>276476.980916</td>\n      <td>361187.908745</td>\n      <td>491094.652672</td>\n      <td>704973.820611</td>\n      <td>1.086269e+06</td>\n      <td>1.686643e+06</td>\n    </tr>\n    <tr>\n      <th>7</th>\n      <td>spagna</td>\n      <td>arbequina</td>\n      <td>243272.055556</td>\n      <td>196197.786260</td>\n      <td>398527.049618</td>\n      <td>7.968418e+05</td>\n      <td>283307.019084</td>\n      <td>571798.011450</td>\n      <td>997297.179389</td>\n      <td>1.156870e+06</td>\n      <td>...</td>\n      <td>130515.053435</td>\n      <td>138516.129278</td>\n      <td>147580.328244</td>\n      <td>201509.858779</td>\n      <td>276546.335878</td>\n      <td>346888.581749</td>\n      <td>474603.797710</td>\n      <td>684271.557252</td>\n      <td>1.039253e+06</td>\n      <td>1.632296e+06</td>\n    </tr>\n    <tr>\n      <th>...</th>\n      <td>...</td>\n      <td>...</td>\n      <td>...</td>\n      <td>...</td>\n      <td>...</td>\n      <td>...</td>\n      <td>...</td>\n      <td>...</td>\n      <td>...</td>\n      <td>...</td>\n      <td>...</td>\n      <td>...</td>\n      <td>...</td>\n      <td>...</td>\n      <td>...</td>\n      <td>...</td>\n      <td>...</td>\n      <td>...</td>\n      <td>...</td>\n      <td>...</td>\n      <td>...</td>\n    </tr>\n    <tr>\n      <th>212</th>\n      <td>grecia-creta</td>\n      <td>psilolia</td>\n      <td>282523.444444</td>\n      <td>223229.706107</td>\n      <td>399778.286260</td>\n      <td>1.005979e+06</td>\n      <td>279335.179389</td>\n      <td>451478.332061</td>\n      <td>502599.847328</td>\n      <td>4.195175e+05</td>\n      <td>...</td>\n      <td>164768.759542</td>\n      <td>161470.391635</td>\n      <td>179481.148855</td>\n      <td>210488.851145</td>\n      <td>286966.870229</td>\n      <td>385167.908745</td>\n      <td>532677.561069</td>\n      <td>765502.019084</td>\n      <td>1.132137e+06</td>\n      <td>1.780847e+06</td>\n    </tr>\n    <tr>\n      <th>213</th>\n      <td>grecia-creta</td>\n      <td>psilolia</td>\n      <td>284255.787037</td>\n      <td>226056.687023</td>\n      <td>389888.290076</td>\n      <td>1.000605e+06</td>\n      <td>306786.870229</td>\n      <td>454201.702290</td>\n      <td>500089.835878</td>\n      <td>5.298876e+05</td>\n      <td>...</td>\n      <td>172875.576336</td>\n      <td>168867.197719</td>\n      <td>187645.106870</td>\n      <td>217010.572519</td>\n      <td>293693.927481</td>\n      <td>394577.577947</td>\n      <td>543966.587786</td>\n      <td>780407.083969</td>\n      <td>1.155864e+06</td>\n      <td>1.820886e+06</td>\n    </tr>\n    <tr>\n      <th>214</th>\n      <td>grecia-creta</td>\n      <td>psilolia</td>\n      <td>285180.407407</td>\n      <td>226563.778626</td>\n      <td>459416.194656</td>\n      <td>1.092579e+06</td>\n      <td>268107.988550</td>\n      <td>410765.385496</td>\n      <td>499917.622137</td>\n      <td>4.419611e+05</td>\n      <td>...</td>\n      <td>223415.633588</td>\n      <td>209212.011407</td>\n      <td>184175.694656</td>\n      <td>216538.877863</td>\n      <td>297940.992366</td>\n      <td>381341.353612</td>\n      <td>539286.900763</td>\n      <td>793366.889313</td>\n      <td>1.155609e+06</td>\n      <td>1.824194e+06</td>\n    </tr>\n    <tr>\n      <th>215</th>\n      <td>grecia-creta</td>\n      <td>psilolia</td>\n      <td>274340.259259</td>\n      <td>215180.129771</td>\n      <td>359988.148855</td>\n      <td>1.355812e+06</td>\n      <td>251213.251908</td>\n      <td>516001.374046</td>\n      <td>371830.988550</td>\n      <td>3.362284e+05</td>\n      <td>...</td>\n      <td>262879.282443</td>\n      <td>201107.030418</td>\n      <td>176834.736641</td>\n      <td>203410.248092</td>\n      <td>283698.583969</td>\n      <td>358531.680608</td>\n      <td>508422.790076</td>\n      <td>759418.549618</td>\n      <td>1.103785e+06</td>\n      <td>1.743720e+06</td>\n    </tr>\n    <tr>\n      <th>216</th>\n      <td>grecia-creta</td>\n      <td>psilolia</td>\n      <td>280082.212963</td>\n      <td>224176.469466</td>\n      <td>427302.694656</td>\n      <td>1.072775e+06</td>\n      <td>264961.958015</td>\n      <td>409542.473282</td>\n      <td>532225.160305</td>\n      <td>4.696305e+05</td>\n      <td>...</td>\n      <td>291903.297710</td>\n      <td>212665.889734</td>\n      <td>185102.393130</td>\n      <td>214347.259542</td>\n      <td>291530.015267</td>\n      <td>376786.874525</td>\n      <td>536461.255725</td>\n      <td>788113.480916</td>\n      <td>1.151774e+06</td>\n      <td>1.812858e+06</td>\n    </tr>\n  </tbody>\n</table>\n<p>188 rows × 42 columns</p>\n</div>"
     },
     "execution_count": 5,
     "metadata": {},
     "output_type": "execute_result"
    }
   ],
   "source": [
    "df"
   ],
   "metadata": {
    "collapsed": false
   }
  },
  {
   "cell_type": "code",
   "execution_count": null,
   "outputs": [],
   "source": [],
   "metadata": {
    "collapsed": false,
    "pycharm": {
     "is_executing": true
    }
   }
  },
  {
   "cell_type": "code",
   "execution_count": 5,
   "outputs": [],
   "source": [],
   "metadata": {
    "collapsed": false
   }
  }
 ],
 "metadata": {
  "kernelspec": {
   "display_name": "Python 3",
   "language": "python",
   "name": "python3"
  },
  "language_info": {
   "codemirror_mode": {
    "name": "ipython",
    "version": 2
   },
   "file_extension": ".py",
   "mimetype": "text/x-python",
   "name": "python",
   "nbconvert_exporter": "python",
   "pygments_lexer": "ipython2",
   "version": "2.7.6"
  }
 },
 "nbformat": 4,
 "nbformat_minor": 0
}
