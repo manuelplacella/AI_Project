{
 "cells": [
  {
   "cell_type": "markdown",
   "source": [
    "## Costruzione del dataset contenente per ogni campione la media della TIC per ogni minuto"
   ],
   "metadata": {
    "collapsed": false
   },
   "execution_count": 1
  },
  {
   "cell_type": "markdown",
   "source": [
    "### Costruzione del dataframe"
   ],
   "metadata": {
    "collapsed": false
   }
  },
  {
   "cell_type": "code",
   "execution_count": 1,
   "outputs": [
    {
     "name": "stderr",
     "output_type": "stream",
     "text": [
      "Determination of memory status is not supported on this \n",
      " platform, measuring for memoryleaks will never fail\n"
     ]
    }
   ],
   "source": [
    "import pandas as pd\n",
    "import pyopenms as pms\n",
    "import matplotlib.pyplot as plt"
   ],
   "metadata": {
    "collapsed": false
   }
  },
  {
   "cell_type": "markdown",
   "source": [
    "#### Creazione un primo df di appoggio contenente origine - cultivar e percorso del file mzdata VOC del campione"
   ],
   "metadata": {
    "collapsed": false
   }
  },
  {
   "cell_type": "code",
   "execution_count": 2,
   "outputs": [
    {
     "data": {
      "text/plain": "          Origine   Cultivar  \\\n0          spagna  arbequina   \n1          spagna  arbequina   \n2      portogallo  arbequina   \n3      portogallo  arbequina   \n4      portogallo  arbequina   \n..            ...        ...   \n212  grecia-creta   psilolia   \n213  grecia-creta   psilolia   \n214  grecia-creta   psilolia   \n215  grecia-creta   psilolia   \n216  grecia-creta   psilolia   \n\n                                                  File  \n0    /Users/manuelplacella/Desktop/Progetto IA/voo-...  \n1    /Users/manuelplacella/Desktop/Progetto IA/voo-...  \n2    /Users/manuelplacella/Desktop/Progetto IA/voo-...  \n3    /Users/manuelplacella/Desktop/Progetto IA/voo-...  \n4    /Users/manuelplacella/Desktop/Progetto IA/voo-...  \n..                                                 ...  \n212  /Users/manuelplacella/Desktop/Progetto IA/voo-...  \n213  /Users/manuelplacella/Desktop/Progetto IA/voo-...  \n214  /Users/manuelplacella/Desktop/Progetto IA/voo-...  \n215  /Users/manuelplacella/Desktop/Progetto IA/voo-...  \n216  /Users/manuelplacella/Desktop/Progetto IA/voo-...  \n\n[217 rows x 3 columns]",
      "text/html": "<div>\n<style scoped>\n    .dataframe tbody tr th:only-of-type {\n        vertical-align: middle;\n    }\n\n    .dataframe tbody tr th {\n        vertical-align: top;\n    }\n\n    .dataframe thead th {\n        text-align: right;\n    }\n</style>\n<table border=\"1\" class=\"dataframe\">\n  <thead>\n    <tr style=\"text-align: right;\">\n      <th></th>\n      <th>Origine</th>\n      <th>Cultivar</th>\n      <th>File</th>\n    </tr>\n  </thead>\n  <tbody>\n    <tr>\n      <th>0</th>\n      <td>spagna</td>\n      <td>arbequina</td>\n      <td>/Users/manuelplacella/Desktop/Progetto IA/voo-...</td>\n    </tr>\n    <tr>\n      <th>1</th>\n      <td>spagna</td>\n      <td>arbequina</td>\n      <td>/Users/manuelplacella/Desktop/Progetto IA/voo-...</td>\n    </tr>\n    <tr>\n      <th>2</th>\n      <td>portogallo</td>\n      <td>arbequina</td>\n      <td>/Users/manuelplacella/Desktop/Progetto IA/voo-...</td>\n    </tr>\n    <tr>\n      <th>3</th>\n      <td>portogallo</td>\n      <td>arbequina</td>\n      <td>/Users/manuelplacella/Desktop/Progetto IA/voo-...</td>\n    </tr>\n    <tr>\n      <th>4</th>\n      <td>portogallo</td>\n      <td>arbequina</td>\n      <td>/Users/manuelplacella/Desktop/Progetto IA/voo-...</td>\n    </tr>\n    <tr>\n      <th>...</th>\n      <td>...</td>\n      <td>...</td>\n      <td>...</td>\n    </tr>\n    <tr>\n      <th>212</th>\n      <td>grecia-creta</td>\n      <td>psilolia</td>\n      <td>/Users/manuelplacella/Desktop/Progetto IA/voo-...</td>\n    </tr>\n    <tr>\n      <th>213</th>\n      <td>grecia-creta</td>\n      <td>psilolia</td>\n      <td>/Users/manuelplacella/Desktop/Progetto IA/voo-...</td>\n    </tr>\n    <tr>\n      <th>214</th>\n      <td>grecia-creta</td>\n      <td>psilolia</td>\n      <td>/Users/manuelplacella/Desktop/Progetto IA/voo-...</td>\n    </tr>\n    <tr>\n      <th>215</th>\n      <td>grecia-creta</td>\n      <td>psilolia</td>\n      <td>/Users/manuelplacella/Desktop/Progetto IA/voo-...</td>\n    </tr>\n    <tr>\n      <th>216</th>\n      <td>grecia-creta</td>\n      <td>psilolia</td>\n      <td>/Users/manuelplacella/Desktop/Progetto IA/voo-...</td>\n    </tr>\n  </tbody>\n</table>\n<p>217 rows × 3 columns</p>\n</div>"
     },
     "execution_count": 2,
     "metadata": {},
     "output_type": "execute_result"
    }
   ],
   "source": [
    "tabella_file = pd.read_excel('/Users/manuelplacella/Desktop/Progetto IA/voo-geographical-origin/campagna-olearia_21-22/annotazioni.xlsx')\n",
    "path_base = '/Users/manuelplacella/Desktop/Progetto IA/voo-geographical-origin/campagna-olearia_21-22/VOCs-mzdata/'\n",
    "elenco_origini = []\n",
    "elenco_cultivar = []\n",
    "elenco_percorsi = []\n",
    "for indice_riga, riga in tabella_file.iterrows():\n",
    "    if str(riga['VOCs']).strip() == 'Sì':\n",
    "        elenco_origini.append(str(riga['Origine']).strip().lower())\n",
    "        elenco_cultivar.append(str(riga['CV']).strip().lower())\n",
    "        elenco_percorsi.append(path_base + str(riga['Sample']).strip() + '.mzdata.xml')\n",
    "df_file = pd.DataFrame({'Origine': elenco_origini, 'Cultivar': elenco_cultivar, 'File': elenco_percorsi})\n",
    "df_file"
   ],
   "metadata": {
    "collapsed": false
   }
  },
  {
   "cell_type": "markdown",
   "source": [
    "#### Definizione di una funzione che per ogni experiment (corrispondente ad un file) mi calcola la corrente ionica totale (TIC) e calcola la media della TIC dal minuti min_range al minuto max_range"
   ],
   "metadata": {
    "collapsed": false
   }
  },
  {
   "cell_type": "code",
   "execution_count": 3,
   "outputs": [],
   "source": [
    "min_range = 1\n",
    "max_range = 41\n",
    "def calcolaMedie(exp):\n",
    "    tic = exp.calculateTIC()\n",
    "    retention_time, intensity = tic.get_peaks()\n",
    "    lista_medie = []\n",
    "    pos_t_i = 0\n",
    "    for min in range(min_range,max_range):\n",
    "        somma = 0\n",
    "        cont = 0\n",
    "        while retention_time[pos_t_i] < 60*min :\n",
    "            somma += intensity[pos_t_i]\n",
    "            pos_t_i += 1\n",
    "            cont += 1\n",
    "        mean_intensity = somma/cont\n",
    "        lista_medie.append(mean_intensity)\n",
    "    return lista_medie"
   ],
   "metadata": {
    "collapsed": false
   }
  },
  {
   "cell_type": "markdown",
   "source": [
    "### Costruzione del dataset di lavoro inserendo i target 'origine' e 'cultivar' e 40 feature corrispondenti alla corrente ionica totale media in ogni minuto per ogni campione"
   ],
   "metadata": {
    "collapsed": false
   }
  },
  {
   "cell_type": "code",
   "execution_count": 4,
   "outputs": [
    {
     "name": "stdout",
     "output_type": "stream",
     "text": [
      "Campione 0\n",
      "Campione 1\n",
      "Campione 2\n",
      "Campione 3\n",
      "Campione 4\n",
      "Campione 5\n",
      "Campione 6\n",
      "Campione 7\n",
      "Campione 8\n",
      "Campione 9\n",
      "Campione 10\n",
      "Campione 11\n",
      "Campione 12\n",
      "Campione 13\n",
      "Campione 14\n",
      "Campione 15\n",
      "Campione 16\n",
      "Campione 17\n",
      "Campione 18\n",
      "Campione 19\n",
      "Campione 20\n",
      "Campione 21\n",
      "Campione 22\n",
      "Campione 23\n",
      "Campione 24\n",
      "Campione 25\n",
      "Campione 26\n",
      "Campione 27\n",
      "Campione 28\n",
      "Campione 29\n",
      "Campione 30\n",
      "Campione 31\n",
      "Campione 32\n",
      "Campione 33\n",
      "Campione 34\n",
      "Campione 35\n",
      "Campione 36\n",
      "Campione 37\n",
      "Campione 38\n",
      "Campione 39\n",
      "Campione 40\n",
      "Campione 41\n",
      "Campione 42\n",
      "Campione 43\n",
      "Campione 44\n",
      "Campione 45\n",
      "Campione 46\n",
      "Campione 47\n",
      "Campione 48\n",
      "Campione 49\n",
      "Campione 50\n",
      "Campione 51\n",
      "Campione 52\n",
      "Campione 53\n",
      "Campione 54\n",
      "Campione 55\n",
      "Campione 56\n",
      "Campione 57\n",
      "Campione 58\n",
      "Campione 59\n",
      "Campione 60\n",
      "Campione 61\n",
      "Campione 62\n",
      "Campione 63\n",
      "Campione 64\n",
      "Campione 65\n",
      "Campione 66\n",
      "Campione 67\n",
      "Campione 68\n",
      "Campione 69\n",
      "Campione 70\n",
      "Campione 71\n",
      "Campione 72\n",
      "Campione 73\n",
      "Campione 74\n",
      "Campione 75\n",
      "Campione 76\n",
      "Campione 77\n",
      "Campione 78\n",
      "Campione 79\n",
      "Campione 80\n",
      "Campione 81\n",
      "Campione 82\n",
      "Campione 83\n",
      "Campione 84\n",
      "Campione 85\n",
      "Campione 86\n",
      "Campione 87\n",
      "Campione 88\n",
      "Campione 89\n",
      "Campione 90\n",
      "Campione 91\n",
      "Campione 92\n",
      "Campione 93\n",
      "Campione 94\n",
      "Campione 95\n",
      "Campione 96\n",
      "Campione 97\n",
      "Campione 98\n",
      "Campione 99\n",
      "Campione 100\n",
      "Campione 101\n",
      "Campione 102\n",
      "Campione 103\n",
      "Campione 104\n",
      "Campione 105\n",
      "Campione 106\n",
      "Campione 107\n",
      "Campione 108\n",
      "Campione 109\n",
      "Campione 110\n",
      "Campione 111\n",
      "Campione 112\n",
      "Campione 113\n",
      "Campione 114\n",
      "Campione 115\n",
      "Campione 116\n",
      "Campione 117\n",
      "Campione 118\n",
      "Campione 119\n",
      "Campione 120\n",
      "Campione 121\n",
      "Campione 122\n",
      "Campione 123\n",
      "Campione 124\n",
      "Campione 125\n",
      "Campione 126\n",
      "Campione 127\n",
      "Campione 128\n",
      "Campione 129\n",
      "Campione 130\n",
      "Campione 131\n",
      "Campione 132\n",
      "Campione 133\n",
      "Campione 134\n",
      "Campione 135\n",
      "Campione 136\n",
      "Campione 137\n",
      "Campione 138\n",
      "Campione 139\n",
      "Campione 140\n",
      "Campione 141\n",
      "Campione 142\n",
      "Campione 143\n",
      "Campione 144\n",
      "Campione 145\n",
      "Campione 146\n",
      "Campione 147\n",
      "Campione 148\n",
      "Campione 149\n",
      "Campione 150\n",
      "Campione 151\n",
      "Campione 152\n",
      "Campione 153\n",
      "Campione 154\n",
      "Campione 155\n",
      "Campione 156\n",
      "Campione 157\n",
      "Campione 158\n",
      "Campione 159\n",
      "Campione 160\n",
      "Campione 161\n",
      "Campione 162\n",
      "Campione 163\n",
      "Campione 164\n",
      "Campione 165\n",
      "Campione 166\n",
      "Campione 167\n",
      "Campione 168\n",
      "Campione 169\n",
      "Campione 170\n",
      "Campione 171\n",
      "Campione 172\n",
      "Campione 173\n",
      "Campione 174\n",
      "Campione 175\n",
      "Campione 176\n",
      "Campione 177\n",
      "Campione 178\n",
      "Campione 179\n",
      "Campione 180\n",
      "Campione 181\n",
      "Campione 182\n",
      "Campione 183\n",
      "Campione 184\n",
      "Campione 185\n",
      "Campione 186\n",
      "Campione 187\n",
      "Campione 188\n",
      "Campione 189\n",
      "Campione 190\n",
      "Campione 191\n",
      "Campione 192\n",
      "Campione 193\n",
      "Campione 194\n",
      "Campione 195\n",
      "Campione 196\n",
      "Campione 197\n",
      "Campione 198\n",
      "Campione 199\n",
      "Campione 200\n",
      "Campione 201\n",
      "Campione 202\n",
      "Campione 203\n",
      "Campione 204\n",
      "Campione 205\n",
      "Campione 206\n",
      "Campione 207\n",
      "Campione 208\n",
      "Campione 209\n",
      "Campione 210\n",
      "Campione 211\n",
      "Campione 212\n",
      "Campione 213\n",
      "Campione 214\n",
      "Campione 215\n",
      "Campione 216\n"
     ]
    }
   ],
   "source": [
    "colonna_origini = []\n",
    "colonna_cultivar = []\n",
    "colonna_valori = []\n",
    "for index, row in df_file.iterrows():\n",
    "    print('Campione ' + str(index))\n",
    "    colonna_origini.append(row['Origine'])\n",
    "    colonna_cultivar.append(row['Cultivar'])\n",
    "    exp = pms.MSExperiment()\n",
    "    pms.MzDataFile().load(str(row.File), exp)\n",
    "    colonna_valori.append(calcolaMedie(exp))\n",
    "df = pd.DataFrame(colonna_valori, columns=['minuto {}'.format(i+1) for i in range(max_range-1)])\n",
    "# Aggiungo la colonna cultivar\n",
    "df.insert(0,'Cultivar', colonna_cultivar)\n",
    "# Aggiungo la colonna origine\n",
    "df.insert(0,'Origine', colonna_origini)"
   ],
   "metadata": {
    "collapsed": false
   }
  },
  {
   "cell_type": "code",
   "execution_count": 5,
   "outputs": [
    {
     "data": {
      "text/plain": "          Origine   Cultivar       minuto 1       minuto 2       minuto 3  \\\n0          spagna  arbequina  269838.435185  214440.194656  404471.480916   \n1          spagna  arbequina  240197.685185  195479.748092  322672.637405   \n2      portogallo  arbequina  228354.759259  180756.251908  297156.332061   \n3      portogallo  arbequina  243738.574074  196577.687023  343740.503817   \n4      portogallo  arbequina  238562.805556  192566.801527  351229.049618   \n..            ...        ...            ...            ...            ...   \n212  grecia-creta   psilolia  282523.444444  223229.706107  399778.286260   \n213  grecia-creta   psilolia  284255.787037  226056.687023  389888.290076   \n214  grecia-creta   psilolia  285180.407407  226563.778626  459416.194656   \n215  grecia-creta   psilolia  274340.259259  215180.129771  359988.148855   \n216  grecia-creta   psilolia  280082.212963  224176.469466  427302.694656   \n\n         minuto 4       minuto 5       minuto 6       minuto 7      minuto 8  \\\n0    9.718674e+05  214243.927481  372427.763359  440968.820611  4.301475e+05   \n1    2.361754e+06  334500.408397  512092.049618  503167.267176  8.102410e+05   \n2    7.448458e+05  306539.671756  607468.580153  857707.442748  9.320031e+05   \n3    7.543858e+05  257065.568702  504839.583969  735639.935115  1.166171e+06   \n4    8.487872e+05  309813.549618  484581.519084  712942.324427  8.926326e+05   \n..            ...            ...            ...            ...           ...   \n212  1.005979e+06  279335.179389  451478.332061  502599.847328  4.195175e+05   \n213  1.000605e+06  306786.870229  454201.702290  500089.835878  5.298876e+05   \n214  1.092579e+06  268107.988550  410765.385496  499917.622137  4.419611e+05   \n215  1.355812e+06  251213.251908  516001.374046  371830.988550  3.362284e+05   \n216  1.072775e+06  264961.958015  409542.473282  532225.160305  4.696305e+05   \n\n     ...      minuto 31      minuto 32      minuto 33      minuto 34  \\\n0    ...  260476.667939  177054.813688  237462.484733  255932.961832   \n1    ...  118197.698473  134956.091255  145618.702290  206248.954198   \n2    ...  131935.664122  141273.167300  162876.175573  232173.099237   \n3    ...  140585.106870  142509.600760  151270.954198  204724.114504   \n4    ...  119389.702290  137154.882129  149447.442748  202541.198473   \n..   ...            ...            ...            ...            ...   \n212  ...  164768.759542  161470.391635  179481.148855  210488.851145   \n213  ...  172875.576336  168867.197719  187645.106870  217010.572519   \n214  ...  223415.633588  209212.011407  184175.694656  216538.877863   \n215  ...  262879.282443  201107.030418  176834.736641  203410.248092   \n216  ...  291903.297710  212665.889734  185102.393130  214347.259542   \n\n         minuto 35      minuto 36      minuto 37      minuto 38     minuto 39  \\\n0    411766.759542  451533.547529  656340.763359  917184.419847  1.351759e+06   \n1    251911.530534  345735.072243  475011.442748  680705.267176  1.034518e+06   \n2    363278.255725  378103.456274  529309.564885  737379.835878  1.107545e+06   \n3    303272.633588  353698.722433  493036.515267  691654.187023  1.039010e+06   \n4    302269.061069  350110.680608  508800.931298  687794.148855  1.044465e+06   \n..             ...            ...            ...            ...           ...   \n212  286966.870229  385167.908745  532677.561069  765502.019084  1.132137e+06   \n213  293693.927481  394577.577947  543966.587786  780407.083969  1.155864e+06   \n214  297940.992366  381341.353612  539286.900763  793366.889313  1.155609e+06   \n215  283698.583969  358531.680608  508422.790076  759418.549618  1.103785e+06   \n216  291530.015267  376786.874525  536461.255725  788113.480916  1.151774e+06   \n\n        minuto 40  \n0    2.129662e+06  \n1    1.630518e+06  \n2    1.744317e+06  \n3    1.640625e+06  \n4    1.637805e+06  \n..            ...  \n212  1.780847e+06  \n213  1.820886e+06  \n214  1.824194e+06  \n215  1.743720e+06  \n216  1.812858e+06  \n\n[217 rows x 42 columns]",
      "text/html": "<div>\n<style scoped>\n    .dataframe tbody tr th:only-of-type {\n        vertical-align: middle;\n    }\n\n    .dataframe tbody tr th {\n        vertical-align: top;\n    }\n\n    .dataframe thead th {\n        text-align: right;\n    }\n</style>\n<table border=\"1\" class=\"dataframe\">\n  <thead>\n    <tr style=\"text-align: right;\">\n      <th></th>\n      <th>Origine</th>\n      <th>Cultivar</th>\n      <th>minuto 1</th>\n      <th>minuto 2</th>\n      <th>minuto 3</th>\n      <th>minuto 4</th>\n      <th>minuto 5</th>\n      <th>minuto 6</th>\n      <th>minuto 7</th>\n      <th>minuto 8</th>\n      <th>...</th>\n      <th>minuto 31</th>\n      <th>minuto 32</th>\n      <th>minuto 33</th>\n      <th>minuto 34</th>\n      <th>minuto 35</th>\n      <th>minuto 36</th>\n      <th>minuto 37</th>\n      <th>minuto 38</th>\n      <th>minuto 39</th>\n      <th>minuto 40</th>\n    </tr>\n  </thead>\n  <tbody>\n    <tr>\n      <th>0</th>\n      <td>spagna</td>\n      <td>arbequina</td>\n      <td>269838.435185</td>\n      <td>214440.194656</td>\n      <td>404471.480916</td>\n      <td>9.718674e+05</td>\n      <td>214243.927481</td>\n      <td>372427.763359</td>\n      <td>440968.820611</td>\n      <td>4.301475e+05</td>\n      <td>...</td>\n      <td>260476.667939</td>\n      <td>177054.813688</td>\n      <td>237462.484733</td>\n      <td>255932.961832</td>\n      <td>411766.759542</td>\n      <td>451533.547529</td>\n      <td>656340.763359</td>\n      <td>917184.419847</td>\n      <td>1.351759e+06</td>\n      <td>2.129662e+06</td>\n    </tr>\n    <tr>\n      <th>1</th>\n      <td>spagna</td>\n      <td>arbequina</td>\n      <td>240197.685185</td>\n      <td>195479.748092</td>\n      <td>322672.637405</td>\n      <td>2.361754e+06</td>\n      <td>334500.408397</td>\n      <td>512092.049618</td>\n      <td>503167.267176</td>\n      <td>8.102410e+05</td>\n      <td>...</td>\n      <td>118197.698473</td>\n      <td>134956.091255</td>\n      <td>145618.702290</td>\n      <td>206248.954198</td>\n      <td>251911.530534</td>\n      <td>345735.072243</td>\n      <td>475011.442748</td>\n      <td>680705.267176</td>\n      <td>1.034518e+06</td>\n      <td>1.630518e+06</td>\n    </tr>\n    <tr>\n      <th>2</th>\n      <td>portogallo</td>\n      <td>arbequina</td>\n      <td>228354.759259</td>\n      <td>180756.251908</td>\n      <td>297156.332061</td>\n      <td>7.448458e+05</td>\n      <td>306539.671756</td>\n      <td>607468.580153</td>\n      <td>857707.442748</td>\n      <td>9.320031e+05</td>\n      <td>...</td>\n      <td>131935.664122</td>\n      <td>141273.167300</td>\n      <td>162876.175573</td>\n      <td>232173.099237</td>\n      <td>363278.255725</td>\n      <td>378103.456274</td>\n      <td>529309.564885</td>\n      <td>737379.835878</td>\n      <td>1.107545e+06</td>\n      <td>1.744317e+06</td>\n    </tr>\n    <tr>\n      <th>3</th>\n      <td>portogallo</td>\n      <td>arbequina</td>\n      <td>243738.574074</td>\n      <td>196577.687023</td>\n      <td>343740.503817</td>\n      <td>7.543858e+05</td>\n      <td>257065.568702</td>\n      <td>504839.583969</td>\n      <td>735639.935115</td>\n      <td>1.166171e+06</td>\n      <td>...</td>\n      <td>140585.106870</td>\n      <td>142509.600760</td>\n      <td>151270.954198</td>\n      <td>204724.114504</td>\n      <td>303272.633588</td>\n      <td>353698.722433</td>\n      <td>493036.515267</td>\n      <td>691654.187023</td>\n      <td>1.039010e+06</td>\n      <td>1.640625e+06</td>\n    </tr>\n    <tr>\n      <th>4</th>\n      <td>portogallo</td>\n      <td>arbequina</td>\n      <td>238562.805556</td>\n      <td>192566.801527</td>\n      <td>351229.049618</td>\n      <td>8.487872e+05</td>\n      <td>309813.549618</td>\n      <td>484581.519084</td>\n      <td>712942.324427</td>\n      <td>8.926326e+05</td>\n      <td>...</td>\n      <td>119389.702290</td>\n      <td>137154.882129</td>\n      <td>149447.442748</td>\n      <td>202541.198473</td>\n      <td>302269.061069</td>\n      <td>350110.680608</td>\n      <td>508800.931298</td>\n      <td>687794.148855</td>\n      <td>1.044465e+06</td>\n      <td>1.637805e+06</td>\n    </tr>\n    <tr>\n      <th>...</th>\n      <td>...</td>\n      <td>...</td>\n      <td>...</td>\n      <td>...</td>\n      <td>...</td>\n      <td>...</td>\n      <td>...</td>\n      <td>...</td>\n      <td>...</td>\n      <td>...</td>\n      <td>...</td>\n      <td>...</td>\n      <td>...</td>\n      <td>...</td>\n      <td>...</td>\n      <td>...</td>\n      <td>...</td>\n      <td>...</td>\n      <td>...</td>\n      <td>...</td>\n      <td>...</td>\n    </tr>\n    <tr>\n      <th>212</th>\n      <td>grecia-creta</td>\n      <td>psilolia</td>\n      <td>282523.444444</td>\n      <td>223229.706107</td>\n      <td>399778.286260</td>\n      <td>1.005979e+06</td>\n      <td>279335.179389</td>\n      <td>451478.332061</td>\n      <td>502599.847328</td>\n      <td>4.195175e+05</td>\n      <td>...</td>\n      <td>164768.759542</td>\n      <td>161470.391635</td>\n      <td>179481.148855</td>\n      <td>210488.851145</td>\n      <td>286966.870229</td>\n      <td>385167.908745</td>\n      <td>532677.561069</td>\n      <td>765502.019084</td>\n      <td>1.132137e+06</td>\n      <td>1.780847e+06</td>\n    </tr>\n    <tr>\n      <th>213</th>\n      <td>grecia-creta</td>\n      <td>psilolia</td>\n      <td>284255.787037</td>\n      <td>226056.687023</td>\n      <td>389888.290076</td>\n      <td>1.000605e+06</td>\n      <td>306786.870229</td>\n      <td>454201.702290</td>\n      <td>500089.835878</td>\n      <td>5.298876e+05</td>\n      <td>...</td>\n      <td>172875.576336</td>\n      <td>168867.197719</td>\n      <td>187645.106870</td>\n      <td>217010.572519</td>\n      <td>293693.927481</td>\n      <td>394577.577947</td>\n      <td>543966.587786</td>\n      <td>780407.083969</td>\n      <td>1.155864e+06</td>\n      <td>1.820886e+06</td>\n    </tr>\n    <tr>\n      <th>214</th>\n      <td>grecia-creta</td>\n      <td>psilolia</td>\n      <td>285180.407407</td>\n      <td>226563.778626</td>\n      <td>459416.194656</td>\n      <td>1.092579e+06</td>\n      <td>268107.988550</td>\n      <td>410765.385496</td>\n      <td>499917.622137</td>\n      <td>4.419611e+05</td>\n      <td>...</td>\n      <td>223415.633588</td>\n      <td>209212.011407</td>\n      <td>184175.694656</td>\n      <td>216538.877863</td>\n      <td>297940.992366</td>\n      <td>381341.353612</td>\n      <td>539286.900763</td>\n      <td>793366.889313</td>\n      <td>1.155609e+06</td>\n      <td>1.824194e+06</td>\n    </tr>\n    <tr>\n      <th>215</th>\n      <td>grecia-creta</td>\n      <td>psilolia</td>\n      <td>274340.259259</td>\n      <td>215180.129771</td>\n      <td>359988.148855</td>\n      <td>1.355812e+06</td>\n      <td>251213.251908</td>\n      <td>516001.374046</td>\n      <td>371830.988550</td>\n      <td>3.362284e+05</td>\n      <td>...</td>\n      <td>262879.282443</td>\n      <td>201107.030418</td>\n      <td>176834.736641</td>\n      <td>203410.248092</td>\n      <td>283698.583969</td>\n      <td>358531.680608</td>\n      <td>508422.790076</td>\n      <td>759418.549618</td>\n      <td>1.103785e+06</td>\n      <td>1.743720e+06</td>\n    </tr>\n    <tr>\n      <th>216</th>\n      <td>grecia-creta</td>\n      <td>psilolia</td>\n      <td>280082.212963</td>\n      <td>224176.469466</td>\n      <td>427302.694656</td>\n      <td>1.072775e+06</td>\n      <td>264961.958015</td>\n      <td>409542.473282</td>\n      <td>532225.160305</td>\n      <td>4.696305e+05</td>\n      <td>...</td>\n      <td>291903.297710</td>\n      <td>212665.889734</td>\n      <td>185102.393130</td>\n      <td>214347.259542</td>\n      <td>291530.015267</td>\n      <td>376786.874525</td>\n      <td>536461.255725</td>\n      <td>788113.480916</td>\n      <td>1.151774e+06</td>\n      <td>1.812858e+06</td>\n    </tr>\n  </tbody>\n</table>\n<p>217 rows × 42 columns</p>\n</div>"
     },
     "execution_count": 5,
     "metadata": {},
     "output_type": "execute_result"
    }
   ],
   "source": [
    "df"
   ],
   "metadata": {
    "collapsed": false
   }
  },
  {
   "cell_type": "markdown",
   "source": [
    "### Salvataggio del dataframe in un csv da utilizzare poi per testare i vari algoritmi di machine learning"
   ],
   "metadata": {
    "collapsed": false
   }
  },
  {
   "cell_type": "code",
   "execution_count": 6,
   "outputs": [
    {
     "data": {
      "text/plain": "picual                  50\npsilolia                44\nkoroneiki               32\narbequina               31\ncoratina                22\nchemlali                 8\nhojiblanca               7\nmanzanilla               5\nmorisca                  3\npicudo                   3\nmoraiolo                 2\nfrantoio                 1\ncarolea                  1\nblend                    1\nleccio del corno         1\nchemlali 90%             1\nmaurino                  1\nneroliva                 1\nogliarola                1\ncarnenzuela              1\nkoroneiki & neroliva     1\nName: Cultivar, dtype: int64"
     },
     "execution_count": 6,
     "metadata": {},
     "output_type": "execute_result"
    }
   ],
   "source": [
    "df['Cultivar'].value_counts()"
   ],
   "metadata": {
    "collapsed": false
   }
  },
  {
   "cell_type": "code",
   "execution_count": 7,
   "outputs": [
    {
     "data": {
      "text/plain": "spagna                  91\ngrecia-creta            44\nitalia                  29\ngrecia - peloponneso    24\nportogallo              10\ngrecia                  10\ntunisia                  9\nName: Origine, dtype: int64"
     },
     "execution_count": 7,
     "metadata": {},
     "output_type": "execute_result"
    }
   ],
   "source": [
    "df['Origine'].value_counts()"
   ],
   "metadata": {
    "collapsed": false
   }
  },
  {
   "cell_type": "code",
   "execution_count": 8,
   "outputs": [],
   "source": [
    "df.to_csv('../dataset/df_media_TIC_VOCs_min_1-40.csv', index=False)"
   ],
   "metadata": {
    "collapsed": false
   }
  },
  {
   "cell_type": "code",
   "execution_count": null,
   "outputs": [],
   "source": [],
   "metadata": {
    "collapsed": false
   }
  }
 ],
 "metadata": {
  "kernelspec": {
   "display_name": "Python 3",
   "language": "python",
   "name": "python3"
  },
  "language_info": {
   "codemirror_mode": {
    "name": "ipython",
    "version": 2
   },
   "file_extension": ".py",
   "mimetype": "text/x-python",
   "name": "python",
   "nbconvert_exporter": "python",
   "pygments_lexer": "ipython2",
   "version": "2.7.6"
  }
 },
 "nbformat": 4,
 "nbformat_minor": 0
}
