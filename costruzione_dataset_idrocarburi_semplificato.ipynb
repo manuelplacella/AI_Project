{
 "cells": [
  {
   "cell_type": "code",
   "execution_count": 1,
   "metadata": {
    "collapsed": true
   },
   "outputs": [],
   "source": [
    "import pandas as pd"
   ]
  },
  {
   "cell_type": "code",
   "execution_count": 6,
   "outputs": [],
   "source": [
    "df = pd.read_csv('../dataset/df_media_TIC_Idro_min_1-40.csv')"
   ],
   "metadata": {
    "collapsed": false
   }
  },
  {
   "cell_type": "code",
   "execution_count": 7,
   "outputs": [],
   "source": [
    "df = df.drop(df[df['Origine'] == 'tunisia'].index)\n",
    "df = df.drop(df[df['Origine'] == 'portogallo'].index)\n",
    "df = df.drop(df[df['Origine'] == 'grecia'].index)"
   ],
   "metadata": {
    "collapsed": false
   }
  },
  {
   "cell_type": "code",
   "execution_count": 8,
   "outputs": [],
   "source": [
    "df.to_csv('../dataset/df_media_TIC_Idro_min_1-40_semplificato.csv', index=False)"
   ],
   "metadata": {
    "collapsed": false
   }
  },
  {
   "cell_type": "code",
   "execution_count": 9,
   "outputs": [
    {
     "data": {
      "text/plain": "          Origine   Cultivar       minuto 1       minuto 2       minuto 3  \\\n0          spagna  arbequina  285552.657407  222528.687023  479480.820611   \n1          spagna  arbequina  350859.666667  275378.450382  371042.889313   \n5          spagna  arbequina  327105.796296  253511.175573  353929.774809   \n6          spagna  arbequina  328100.925926  253170.458015  355476.076336   \n7          spagna  arbequina  326432.703704  253246.022901  373139.893130   \n..            ...        ...            ...            ...            ...   \n210  grecia-creta   psilolia  232529.898148  171412.179389  313677.156489   \n211  grecia-creta   psilolia  238565.101852  177041.629771  317997.790076   \n212  grecia-creta   psilolia  238005.898148  175727.824427  314296.770992   \n213  grecia-creta   psilolia  225468.259259  168102.087786  289200.973282   \n214  grecia-creta   psilolia  232030.712963  172734.984733  315451.469466   \n\n          minuto 4       minuto 5       minuto 6       minuto 7  \\\n0    841350.133080  151055.500000  293072.973282  210358.992366   \n1    613049.079848  205299.877863  401429.790076  220935.912214   \n5    574374.927757  194896.988550  531037.790076  281772.755725   \n6    596558.817490  195418.916031  404390.251908  214264.221374   \n7    587733.851711  190630.148855  474728.133588  300797.637405   \n..             ...            ...            ...            ...   \n210  571485.133080  121033.053435  309337.423664  150019.377863   \n211  567086.901141  124256.751908  310766.561069  147907.110687   \n212  574093.931559  125273.282443  291120.496183  152215.454198   \n213  539879.425856  120456.423664  289190.587786  145751.194656   \n214  558837.505703  126249.377863  297561.503817  169850.683206   \n\n          minuto 8  ...      minuto 31      minuto 32      minuto 33  \\\n0    231720.041825  ...  254848.003817  242908.756654  330858.515267   \n1    431963.661597  ...  384002.698473  501966.589354  452314.958015   \n5    408155.095057  ...  319588.152672  429352.695817  396000.152672   \n6    340537.920152  ...  454695.839695  466096.882129  444854.835878   \n7    512023.334601  ...  310019.251908  396244.840304  436357.022901   \n..             ...  ...            ...            ...            ...   \n210  143070.973384  ...  304278.450382  393241.589354  310216.419847   \n211  173930.475285  ...  308148.633588  426888.711027  354341.389313   \n212  150483.212928  ...  501606.057252  426067.456274  365275.515267   \n213  142537.197719  ...  605190.992366  480501.585551  283547.358779   \n214  165171.954373  ...  559273.725191  482647.847909  304625.610687   \n\n        minuto 34      minuto 35      minuto 36     minuto 37     minuto 38  \\\n0    3.109311e+05  895092.545802  507366.452471  1.602090e+06  1.108234e+06   \n1    2.748970e+06  741897.832061  762177.859316  1.046992e+06  1.043548e+06   \n5    1.920173e+06  613092.507634  692863.783270  1.009418e+06  1.020466e+06   \n6    1.593077e+06  796310.740458  674231.699620  9.448504e+05  9.877302e+05   \n7    1.528576e+06  600428.583969  620911.395437  9.710582e+05  1.008188e+06   \n..            ...            ...            ...           ...           ...   \n210  5.426645e+05  761789.545802  566713.517110  6.497911e+05  1.007910e+06   \n211  6.857394e+05  791463.072519  589462.034221  6.786467e+05  1.026454e+06   \n212  7.810261e+05  677070.080153  602479.749049  6.712382e+05  1.110826e+06   \n213  5.653339e+05  626207.706107  503311.205323  7.386943e+05  1.079414e+06   \n214  6.816158e+05  634376.599237  577367.745247  7.102399e+05  1.104055e+06   \n\n        minuto 39     minuto 40  \n0    1.311983e+06  1.959019e+06  \n1    1.529580e+06  2.195992e+06  \n5    1.438312e+06  2.057815e+06  \n6    1.375931e+06  2.043374e+06  \n7    2.719685e+06  2.138043e+06  \n..            ...           ...  \n210  1.318856e+06  1.713064e+06  \n211  1.319617e+06  1.725690e+06  \n212  1.203354e+06  1.694784e+06  \n213  1.100055e+06  1.591723e+06  \n214  1.187256e+06  1.646966e+06  \n\n[186 rows x 42 columns]",
      "text/html": "<div>\n<style scoped>\n    .dataframe tbody tr th:only-of-type {\n        vertical-align: middle;\n    }\n\n    .dataframe tbody tr th {\n        vertical-align: top;\n    }\n\n    .dataframe thead th {\n        text-align: right;\n    }\n</style>\n<table border=\"1\" class=\"dataframe\">\n  <thead>\n    <tr style=\"text-align: right;\">\n      <th></th>\n      <th>Origine</th>\n      <th>Cultivar</th>\n      <th>minuto 1</th>\n      <th>minuto 2</th>\n      <th>minuto 3</th>\n      <th>minuto 4</th>\n      <th>minuto 5</th>\n      <th>minuto 6</th>\n      <th>minuto 7</th>\n      <th>minuto 8</th>\n      <th>...</th>\n      <th>minuto 31</th>\n      <th>minuto 32</th>\n      <th>minuto 33</th>\n      <th>minuto 34</th>\n      <th>minuto 35</th>\n      <th>minuto 36</th>\n      <th>minuto 37</th>\n      <th>minuto 38</th>\n      <th>minuto 39</th>\n      <th>minuto 40</th>\n    </tr>\n  </thead>\n  <tbody>\n    <tr>\n      <th>0</th>\n      <td>spagna</td>\n      <td>arbequina</td>\n      <td>285552.657407</td>\n      <td>222528.687023</td>\n      <td>479480.820611</td>\n      <td>841350.133080</td>\n      <td>151055.500000</td>\n      <td>293072.973282</td>\n      <td>210358.992366</td>\n      <td>231720.041825</td>\n      <td>...</td>\n      <td>254848.003817</td>\n      <td>242908.756654</td>\n      <td>330858.515267</td>\n      <td>3.109311e+05</td>\n      <td>895092.545802</td>\n      <td>507366.452471</td>\n      <td>1.602090e+06</td>\n      <td>1.108234e+06</td>\n      <td>1.311983e+06</td>\n      <td>1.959019e+06</td>\n    </tr>\n    <tr>\n      <th>1</th>\n      <td>spagna</td>\n      <td>arbequina</td>\n      <td>350859.666667</td>\n      <td>275378.450382</td>\n      <td>371042.889313</td>\n      <td>613049.079848</td>\n      <td>205299.877863</td>\n      <td>401429.790076</td>\n      <td>220935.912214</td>\n      <td>431963.661597</td>\n      <td>...</td>\n      <td>384002.698473</td>\n      <td>501966.589354</td>\n      <td>452314.958015</td>\n      <td>2.748970e+06</td>\n      <td>741897.832061</td>\n      <td>762177.859316</td>\n      <td>1.046992e+06</td>\n      <td>1.043548e+06</td>\n      <td>1.529580e+06</td>\n      <td>2.195992e+06</td>\n    </tr>\n    <tr>\n      <th>5</th>\n      <td>spagna</td>\n      <td>arbequina</td>\n      <td>327105.796296</td>\n      <td>253511.175573</td>\n      <td>353929.774809</td>\n      <td>574374.927757</td>\n      <td>194896.988550</td>\n      <td>531037.790076</td>\n      <td>281772.755725</td>\n      <td>408155.095057</td>\n      <td>...</td>\n      <td>319588.152672</td>\n      <td>429352.695817</td>\n      <td>396000.152672</td>\n      <td>1.920173e+06</td>\n      <td>613092.507634</td>\n      <td>692863.783270</td>\n      <td>1.009418e+06</td>\n      <td>1.020466e+06</td>\n      <td>1.438312e+06</td>\n      <td>2.057815e+06</td>\n    </tr>\n    <tr>\n      <th>6</th>\n      <td>spagna</td>\n      <td>arbequina</td>\n      <td>328100.925926</td>\n      <td>253170.458015</td>\n      <td>355476.076336</td>\n      <td>596558.817490</td>\n      <td>195418.916031</td>\n      <td>404390.251908</td>\n      <td>214264.221374</td>\n      <td>340537.920152</td>\n      <td>...</td>\n      <td>454695.839695</td>\n      <td>466096.882129</td>\n      <td>444854.835878</td>\n      <td>1.593077e+06</td>\n      <td>796310.740458</td>\n      <td>674231.699620</td>\n      <td>9.448504e+05</td>\n      <td>9.877302e+05</td>\n      <td>1.375931e+06</td>\n      <td>2.043374e+06</td>\n    </tr>\n    <tr>\n      <th>7</th>\n      <td>spagna</td>\n      <td>arbequina</td>\n      <td>326432.703704</td>\n      <td>253246.022901</td>\n      <td>373139.893130</td>\n      <td>587733.851711</td>\n      <td>190630.148855</td>\n      <td>474728.133588</td>\n      <td>300797.637405</td>\n      <td>512023.334601</td>\n      <td>...</td>\n      <td>310019.251908</td>\n      <td>396244.840304</td>\n      <td>436357.022901</td>\n      <td>1.528576e+06</td>\n      <td>600428.583969</td>\n      <td>620911.395437</td>\n      <td>9.710582e+05</td>\n      <td>1.008188e+06</td>\n      <td>2.719685e+06</td>\n      <td>2.138043e+06</td>\n    </tr>\n    <tr>\n      <th>...</th>\n      <td>...</td>\n      <td>...</td>\n      <td>...</td>\n      <td>...</td>\n      <td>...</td>\n      <td>...</td>\n      <td>...</td>\n      <td>...</td>\n      <td>...</td>\n      <td>...</td>\n      <td>...</td>\n      <td>...</td>\n      <td>...</td>\n      <td>...</td>\n      <td>...</td>\n      <td>...</td>\n      <td>...</td>\n      <td>...</td>\n      <td>...</td>\n      <td>...</td>\n      <td>...</td>\n    </tr>\n    <tr>\n      <th>210</th>\n      <td>grecia-creta</td>\n      <td>psilolia</td>\n      <td>232529.898148</td>\n      <td>171412.179389</td>\n      <td>313677.156489</td>\n      <td>571485.133080</td>\n      <td>121033.053435</td>\n      <td>309337.423664</td>\n      <td>150019.377863</td>\n      <td>143070.973384</td>\n      <td>...</td>\n      <td>304278.450382</td>\n      <td>393241.589354</td>\n      <td>310216.419847</td>\n      <td>5.426645e+05</td>\n      <td>761789.545802</td>\n      <td>566713.517110</td>\n      <td>6.497911e+05</td>\n      <td>1.007910e+06</td>\n      <td>1.318856e+06</td>\n      <td>1.713064e+06</td>\n    </tr>\n    <tr>\n      <th>211</th>\n      <td>grecia-creta</td>\n      <td>psilolia</td>\n      <td>238565.101852</td>\n      <td>177041.629771</td>\n      <td>317997.790076</td>\n      <td>567086.901141</td>\n      <td>124256.751908</td>\n      <td>310766.561069</td>\n      <td>147907.110687</td>\n      <td>173930.475285</td>\n      <td>...</td>\n      <td>308148.633588</td>\n      <td>426888.711027</td>\n      <td>354341.389313</td>\n      <td>6.857394e+05</td>\n      <td>791463.072519</td>\n      <td>589462.034221</td>\n      <td>6.786467e+05</td>\n      <td>1.026454e+06</td>\n      <td>1.319617e+06</td>\n      <td>1.725690e+06</td>\n    </tr>\n    <tr>\n      <th>212</th>\n      <td>grecia-creta</td>\n      <td>psilolia</td>\n      <td>238005.898148</td>\n      <td>175727.824427</td>\n      <td>314296.770992</td>\n      <td>574093.931559</td>\n      <td>125273.282443</td>\n      <td>291120.496183</td>\n      <td>152215.454198</td>\n      <td>150483.212928</td>\n      <td>...</td>\n      <td>501606.057252</td>\n      <td>426067.456274</td>\n      <td>365275.515267</td>\n      <td>7.810261e+05</td>\n      <td>677070.080153</td>\n      <td>602479.749049</td>\n      <td>6.712382e+05</td>\n      <td>1.110826e+06</td>\n      <td>1.203354e+06</td>\n      <td>1.694784e+06</td>\n    </tr>\n    <tr>\n      <th>213</th>\n      <td>grecia-creta</td>\n      <td>psilolia</td>\n      <td>225468.259259</td>\n      <td>168102.087786</td>\n      <td>289200.973282</td>\n      <td>539879.425856</td>\n      <td>120456.423664</td>\n      <td>289190.587786</td>\n      <td>145751.194656</td>\n      <td>142537.197719</td>\n      <td>...</td>\n      <td>605190.992366</td>\n      <td>480501.585551</td>\n      <td>283547.358779</td>\n      <td>5.653339e+05</td>\n      <td>626207.706107</td>\n      <td>503311.205323</td>\n      <td>7.386943e+05</td>\n      <td>1.079414e+06</td>\n      <td>1.100055e+06</td>\n      <td>1.591723e+06</td>\n    </tr>\n    <tr>\n      <th>214</th>\n      <td>grecia-creta</td>\n      <td>psilolia</td>\n      <td>232030.712963</td>\n      <td>172734.984733</td>\n      <td>315451.469466</td>\n      <td>558837.505703</td>\n      <td>126249.377863</td>\n      <td>297561.503817</td>\n      <td>169850.683206</td>\n      <td>165171.954373</td>\n      <td>...</td>\n      <td>559273.725191</td>\n      <td>482647.847909</td>\n      <td>304625.610687</td>\n      <td>6.816158e+05</td>\n      <td>634376.599237</td>\n      <td>577367.745247</td>\n      <td>7.102399e+05</td>\n      <td>1.104055e+06</td>\n      <td>1.187256e+06</td>\n      <td>1.646966e+06</td>\n    </tr>\n  </tbody>\n</table>\n<p>186 rows × 42 columns</p>\n</div>"
     },
     "execution_count": 9,
     "metadata": {},
     "output_type": "execute_result"
    }
   ],
   "source": [
    "df"
   ],
   "metadata": {
    "collapsed": false
   }
  },
  {
   "cell_type": "code",
   "execution_count": null,
   "outputs": [],
   "source": [],
   "metadata": {
    "collapsed": false
   }
  }
 ],
 "metadata": {
  "kernelspec": {
   "display_name": "Python 3",
   "language": "python",
   "name": "python3"
  },
  "language_info": {
   "codemirror_mode": {
    "name": "ipython",
    "version": 2
   },
   "file_extension": ".py",
   "mimetype": "text/x-python",
   "name": "python",
   "nbconvert_exporter": "python",
   "pygments_lexer": "ipython2",
   "version": "2.7.6"
  }
 },
 "nbformat": 4,
 "nbformat_minor": 0
}
