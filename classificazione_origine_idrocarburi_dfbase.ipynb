{
 "cells": [
  {
   "cell_type": "markdown",
   "source": [
    "# Classificazione origine degli oli dataset Idrocarburi principale"
   ],
   "metadata": {
    "collapsed": false
   }
  },
  {
   "cell_type": "code",
   "execution_count": 1,
   "metadata": {
    "collapsed": true
   },
   "outputs": [],
   "source": [
    "# librerie di base\n",
    "import pandas as pd\n",
    "import numpy as np\n",
    "from sklearn.metrics import accuracy_score, classification_report\n",
    "import matplotlib.pyplot as plt\n",
    "import scikitplot as skplt\n",
    "from sklearn.utils import class_weight\n",
    "from sklearn.model_selection import cross_val_score, cross_val_predict\n",
    "from sklearn.preprocessing import MinMaxScaler\n",
    "# librerie algoritmi\n",
    "from sklearn.neighbors import KNeighborsClassifier\n",
    "from sklearn.svm import SVC\n",
    "from sklearn.ensemble import RandomForestClassifier"
   ]
  },
  {
   "cell_type": "code",
   "execution_count": 2,
   "outputs": [],
   "source": [
    "np.random.seed(42)"
   ],
   "metadata": {
    "collapsed": false
   }
  },
  {
   "cell_type": "markdown",
   "source": [
    "### Caricamento del Dataset"
   ],
   "metadata": {
    "collapsed": false
   }
  },
  {
   "cell_type": "code",
   "execution_count": 3,
   "outputs": [],
   "source": [
    "df = pd.read_csv('../dataset/df_media_TIC_Idro_min_1-40.csv')"
   ],
   "metadata": {
    "collapsed": false
   }
  },
  {
   "cell_type": "markdown",
   "source": [
    "### Dividiamo i dati in X (features) e y (target) e creiamo una copia scalata"
   ],
   "metadata": {
    "collapsed": false
   }
  },
  {
   "cell_type": "code",
   "execution_count": 4,
   "outputs": [],
   "source": [
    "# divido il dataset in X (feature, dalla colonna 2 in poi) e y_origine (target, colonna 1)\n",
    "X = df.iloc[:, 2:]\n",
    "y_origine = df.iloc[:,0]\n",
    "scaler = MinMaxScaler()\n",
    "X_scalati = scaler.fit_transform(X)"
   ],
   "metadata": {
    "collapsed": false
   }
  },
  {
   "cell_type": "markdown",
   "source": [
    "### Calcolo dei pesi delle classi"
   ],
   "metadata": {
    "collapsed": false
   }
  },
  {
   "cell_type": "code",
   "execution_count": 5,
   "outputs": [
    {
     "data": {
      "text/plain": "{'grecia': 3.0714285714285716,\n 'grecia - peloponneso': 1.3354037267080745,\n 'grecia-creta': 0.7142857142857143,\n 'italia': 1.096938775510204,\n 'portogallo': 3.0714285714285716,\n 'spagna': 0.3338509316770186,\n 'tunisia': 3.4126984126984126}"
     },
     "execution_count": 5,
     "metadata": {},
     "output_type": "execute_result"
    }
   ],
   "source": [
    "class_weights = class_weight.compute_class_weight('balanced', classes=np.unique(y_origine), y=y_origine)\n",
    "class_weight_dizionario = dict(zip(np.unique(y_origine), class_weights))\n",
    "class_weight_dizionario"
   ],
   "metadata": {
    "collapsed": false
   }
  },
  {
   "cell_type": "markdown",
   "source": [
    "## KNN con validazione incrociata"
   ],
   "metadata": {
    "collapsed": false
   }
  },
  {
   "cell_type": "markdown",
   "source": [
    "### KNN"
   ],
   "metadata": {
    "collapsed": false
   }
  },
  {
   "cell_type": "code",
   "execution_count": 6,
   "outputs": [
    {
     "name": "stdout",
     "output_type": "stream",
     "text": [
      "Media: 0.7963203463203463\n"
     ]
    },
    {
     "name": "stderr",
     "output_type": "stream",
     "text": [
      "/Users/manuelplacella/opt/anaconda3/lib/python3.9/site-packages/sklearn/model_selection/_split.py:700: UserWarning: The least populated class in y has only 9 members, which is less than n_splits=10.\n",
      "  warnings.warn(\n"
     ]
    }
   ],
   "source": [
    "knn = KNeighborsClassifier(n_neighbors=5)\n",
    "scores = cross_val_score(knn, X, y_origine, cv=10)\n",
    "print(f'Media: {scores.mean()}')\n",
    "#scores"
   ],
   "metadata": {
    "collapsed": false
   }
  },
  {
   "cell_type": "code",
   "execution_count": 7,
   "outputs": [],
   "source": [
    "#predizioni = cross_val_predict(knn, X, y_origine,  cv=10)\n",
    "#print(classification_report(y_origine, predizioni))\n",
    "#skplt.metrics.plot_confusion_matrix(y_origine, predizioni)\n",
    "#plt.xticks(rotation=-90)\n",
    "#plt.show()\n"
   ],
   "metadata": {
    "collapsed": false
   }
  },
  {
   "cell_type": "markdown",
   "source": [
    "### KNN su dati scalati"
   ],
   "metadata": {
    "collapsed": false
   }
  },
  {
   "cell_type": "code",
   "execution_count": 8,
   "outputs": [
    {
     "name": "stdout",
     "output_type": "stream",
     "text": [
      "Media: 0.7965367965367964\n"
     ]
    },
    {
     "name": "stderr",
     "output_type": "stream",
     "text": [
      "/Users/manuelplacella/opt/anaconda3/lib/python3.9/site-packages/sklearn/model_selection/_split.py:700: UserWarning: The least populated class in y has only 9 members, which is less than n_splits=10.\n",
      "  warnings.warn(\n"
     ]
    }
   ],
   "source": [
    "knn_scale = KNeighborsClassifier()\n",
    "scores = cross_val_score(knn_scale, X_scalati, y_origine,  cv=10)\n",
    "print(f'Media: {scores.mean()}')\n",
    "#scores"
   ],
   "metadata": {
    "collapsed": false
   }
  },
  {
   "cell_type": "code",
   "execution_count": 9,
   "outputs": [],
   "source": [
    "#predizioni_scalati = cross_val_predict(knn_scale, X_scalati, y_origine,  cv=10)\n",
    "#print(classification_report(y_origine, predizioni_scalati))\n",
    "#skplt.metrics.plot_confusion_matrix(y_origine, predizioni_scalati)\n",
    "#plt.xticks(rotation=-90)\n",
    "#plt.show()"
   ],
   "metadata": {
    "collapsed": false
   }
  },
  {
   "cell_type": "markdown",
   "source": [
    "## SVM (Support Vector Machine) con validazione incrociata\n"
   ],
   "metadata": {
    "collapsed": false
   }
  },
  {
   "cell_type": "markdown",
   "source": [
    "### SVC"
   ],
   "metadata": {
    "collapsed": false
   }
  },
  {
   "cell_type": "code",
   "execution_count": 10,
   "outputs": [
    {
     "name": "stdout",
     "output_type": "stream",
     "text": [
      "Media: 0.8058441558441558\n"
     ]
    },
    {
     "name": "stderr",
     "output_type": "stream",
     "text": [
      "/Users/manuelplacella/opt/anaconda3/lib/python3.9/site-packages/sklearn/model_selection/_split.py:700: UserWarning: The least populated class in y has only 9 members, which is less than n_splits=10.\n",
      "  warnings.warn(\n"
     ]
    }
   ],
   "source": [
    "svc = SVC(kernel='poly', C=1)\n",
    "#il kernel poly è quello che da i risultati migliori rispetto a linear, rbf e sigmoid\n",
    "scores = cross_val_score(svc, X, y_origine,  cv=10)\n",
    "print(f'Media: {scores.mean()}')\n",
    "#scores"
   ],
   "metadata": {
    "collapsed": false
   }
  },
  {
   "cell_type": "code",
   "execution_count": 11,
   "outputs": [],
   "source": [
    "#predizioni = cross_val_predict(svc, X, y_origine,  cv=10)\n",
    "#print(classification_report(y_origine, predizioni))\n",
    "#skplt.metrics.plot_confusion_matrix(y_origine, predizioni)\n",
    "#plt.xticks(rotation=-90)\n",
    "#plt.show()"
   ],
   "metadata": {
    "collapsed": false
   }
  },
  {
   "cell_type": "markdown",
   "source": [
    "### SVC su dati scalati"
   ],
   "metadata": {
    "collapsed": false
   }
  },
  {
   "cell_type": "code",
   "execution_count": 12,
   "outputs": [
    {
     "name": "stdout",
     "output_type": "stream",
     "text": [
      "Media: 0.7963203463203463\n"
     ]
    },
    {
     "name": "stderr",
     "output_type": "stream",
     "text": [
      "/Users/manuelplacella/opt/anaconda3/lib/python3.9/site-packages/sklearn/model_selection/_split.py:700: UserWarning: The least populated class in y has only 9 members, which is less than n_splits=10.\n",
      "  warnings.warn(\n"
     ]
    }
   ],
   "source": [
    "svc_scale = SVC(kernel='poly', C=1)\n",
    "#il kernel poly è quello che da i risultati migliori rispetto a linear, rbf e sigmoid\n",
    "scores = cross_val_score(svc_scale, X_scalati, y_origine,  cv=10)\n",
    "print(f'Media: {scores.mean()}')\n",
    "#scores"
   ],
   "metadata": {
    "collapsed": false
   }
  },
  {
   "cell_type": "markdown",
   "source": [
    "### SVC con bilanciamento del modello"
   ],
   "metadata": {
    "collapsed": false
   }
  },
  {
   "cell_type": "code",
   "execution_count": 13,
   "outputs": [
    {
     "name": "stdout",
     "output_type": "stream",
     "text": [
      "Media: 0.7645021645021645\n"
     ]
    },
    {
     "name": "stderr",
     "output_type": "stream",
     "text": [
      "/Users/manuelplacella/opt/anaconda3/lib/python3.9/site-packages/sklearn/model_selection/_split.py:700: UserWarning: The least populated class in y has only 9 members, which is less than n_splits=10.\n",
      "  warnings.warn(\n"
     ]
    }
   ],
   "source": [
    "svc_w = SVC(kernel='poly', C=1, class_weight=class_weight_dizionario)\n",
    "#il kernel poly è quello che da i risultati migliori rispetto a linear, rbf e sigmoid\n",
    "scores = cross_val_score(svc_w, X, y_origine,  cv=10)\n",
    "print(f'Media: {scores.mean()}')\n",
    "#scores"
   ],
   "metadata": {
    "collapsed": false
   }
  },
  {
   "cell_type": "markdown",
   "source": [
    "## RandomForest con convalida incrociata"
   ],
   "metadata": {
    "collapsed": false
   }
  },
  {
   "cell_type": "code",
   "execution_count": 14,
   "outputs": [
    {
     "name": "stderr",
     "output_type": "stream",
     "text": [
      "/Users/manuelplacella/opt/anaconda3/lib/python3.9/site-packages/sklearn/model_selection/_split.py:700: UserWarning: The least populated class in y has only 9 members, which is less than n_splits=10.\n",
      "  warnings.warn(\n"
     ]
    },
    {
     "name": "stdout",
     "output_type": "stream",
     "text": [
      "Media: 0.8374458874458874\n"
     ]
    }
   ],
   "source": [
    "rand_for = RandomForestClassifier(n_estimators=100)\n",
    "scores = cross_val_score(rand_for, X, y_origine,  cv=10)\n",
    "print(f'Media: {scores.mean()}')\n",
    "#scores"
   ],
   "metadata": {
    "collapsed": false
   }
  },
  {
   "cell_type": "code",
   "execution_count": 15,
   "outputs": [],
   "source": [
    "#predizioni = cross_val_predict(rand_for, X, y_origine,  cv=10)\n",
    "#print(classification_report(y_origine, predizioni))\n",
    "#skplt.metrics.plot_confusion_matrix(y_origine, predizioni)\n",
    "#plt.xticks(rotation=-90)\n",
    "#plt.show()"
   ],
   "metadata": {
    "collapsed": false
   }
  },
  {
   "cell_type": "markdown",
   "source": [
    "### Random Forest con dati scalati"
   ],
   "metadata": {
    "collapsed": false
   }
  },
  {
   "cell_type": "code",
   "execution_count": 16,
   "outputs": [
    {
     "name": "stderr",
     "output_type": "stream",
     "text": [
      "/Users/manuelplacella/opt/anaconda3/lib/python3.9/site-packages/sklearn/model_selection/_split.py:700: UserWarning: The least populated class in y has only 9 members, which is less than n_splits=10.\n",
      "  warnings.warn(\n"
     ]
    },
    {
     "name": "stdout",
     "output_type": "stream",
     "text": [
      "Media: 0.8422077922077922\n"
     ]
    }
   ],
   "source": [
    "rand_for_scale = RandomForestClassifier(n_estimators=100)\n",
    "scores = cross_val_score(rand_for_scale, X_scalati, y_origine,  cv=10)\n",
    "print(f'Media: {scores.mean()}')\n",
    "#scores"
   ],
   "metadata": {
    "collapsed": false
   }
  },
  {
   "cell_type": "code",
   "execution_count": 17,
   "outputs": [
    {
     "name": "stderr",
     "output_type": "stream",
     "text": [
      "/Users/manuelplacella/opt/anaconda3/lib/python3.9/site-packages/sklearn/model_selection/_split.py:700: UserWarning: The least populated class in y has only 9 members, which is less than n_splits=10.\n",
      "  warnings.warn(\n"
     ]
    },
    {
     "name": "stdout",
     "output_type": "stream",
     "text": [
      "                      precision    recall  f1-score   support\n",
      "\n",
      "              grecia       1.00      0.10      0.18        10\n",
      "grecia - peloponneso       0.78      0.78      0.78        23\n",
      "        grecia-creta       0.88      0.98      0.92        43\n",
      "              italia       0.89      0.86      0.87        28\n",
      "          portogallo       0.60      0.30      0.40        10\n",
      "              spagna       0.84      0.95      0.89        92\n",
      "             tunisia       1.00      0.78      0.88         9\n",
      "\n",
      "            accuracy                           0.85       215\n",
      "           macro avg       0.85      0.68      0.70       215\n",
      "        weighted avg       0.85      0.85      0.83       215\n",
      "\n"
     ]
    },
    {
     "data": {
      "text/plain": "<Figure size 640x480 with 2 Axes>",
      "image/png": "[encoded data removed]"
     },
     "metadata": {},
     "output_type": "display_data"
    }
   ],
   "source": [
    "predizioni = cross_val_predict(rand_for_scale, X_scalati, y_origine,  cv=10)\n",
    "print(classification_report(y_origine, predizioni))\n",
    "skplt.metrics.plot_confusion_matrix(y_origine, predizioni)\n",
    "plt.xticks(rotation=-90)\n",
    "plt.show()"
   ],
   "metadata": {
    "collapsed": false
   }
  },
  {
   "cell_type": "markdown",
   "source": [
    "### Random Forest con bilanciamento del modello"
   ],
   "metadata": {
    "collapsed": false
   }
  },
  {
   "cell_type": "code",
   "execution_count": 18,
   "outputs": [
    {
     "name": "stderr",
     "output_type": "stream",
     "text": [
      "/Users/manuelplacella/opt/anaconda3/lib/python3.9/site-packages/sklearn/model_selection/_split.py:700: UserWarning: The least populated class in y has only 9 members, which is less than n_splits=10.\n",
      "  warnings.warn(\n"
     ]
    },
    {
     "name": "stdout",
     "output_type": "stream",
     "text": [
      "Media: 0.8380952380952381\n"
     ]
    }
   ],
   "source": [
    "rand_for_w = RandomForestClassifier(n_estimators=100, class_weight=class_weight_dizionario)\n",
    "scores = cross_val_score(rand_for_w, X, y_origine,  cv=10)\n",
    "print(f'Media: {scores.mean()}')\n",
    "#scores"
   ],
   "metadata": {
    "collapsed": false
   }
  },
  {
   "cell_type": "markdown",
   "source": [
    "### Random Forest con bilanciamento del modello e con dati scalati"
   ],
   "metadata": {
    "collapsed": false
   }
  },
  {
   "cell_type": "code",
   "execution_count": 19,
   "outputs": [
    {
     "name": "stderr",
     "output_type": "stream",
     "text": [
      "/Users/manuelplacella/opt/anaconda3/lib/python3.9/site-packages/sklearn/model_selection/_split.py:700: UserWarning: The least populated class in y has only 9 members, which is less than n_splits=10.\n",
      "  warnings.warn(\n"
     ]
    },
    {
     "name": "stdout",
     "output_type": "stream",
     "text": [
      "Media: 0.8235930735930734\n"
     ]
    }
   ],
   "source": [
    "rand_for_w_scale = RandomForestClassifier(n_estimators=100, class_weight=class_weight_dizionario)\n",
    "scores = cross_val_score(rand_for_w_scale, X_scalati, y_origine,  cv=10)\n",
    "print(f'Media: {scores.mean()}')\n",
    "#scores"
   ],
   "metadata": {
    "collapsed": false
   }
  },
  {
   "cell_type": "markdown",
   "source": [
    "# I risultati ottenuti sono peggiori o uguali a quelli ottenuti con il dataset VOCs principale"
   ],
   "metadata": {
    "collapsed": false
   }
  },
  {
   "cell_type": "code",
   "execution_count": null,
   "outputs": [],
   "source": [],
   "metadata": {
    "collapsed": false
   }
  }
 ],
 "metadata": {
  "kernelspec": {
   "display_name": "Python 3",
   "language": "python",
   "name": "python3"
  },
  "language_info": {
   "codemirror_mode": {
    "name": "ipython",
    "version": 2
   },
   "file_extension": ".py",
   "mimetype": "text/x-python",
   "name": "python",
   "nbconvert_exporter": "python",
   "pygments_lexer": "ipython2",
   "version": "2.7.6"
  }
 },
 "nbformat": 4,
 "nbformat_minor": 0
}
